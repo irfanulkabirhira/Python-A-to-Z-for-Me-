{
 "cells": [
  {
   "cell_type": "markdown",
   "id": "9adf13f3-f093-4fb5-923b-b65295136591",
   "metadata": {},
   "source": [
    "## part 1"
   ]
  },
  {
   "cell_type": "markdown",
   "id": "679fa0a0-2d3f-4134-8588-582ac5ab20b6",
   "metadata": {},
   "source": [
    "### Very Basic "
   ]
  },
  {
   "cell_type": "markdown",
   "id": "06d9861b-f61c-4da8-a9ce-eb15f6c335f9",
   "metadata": {},
   "source": [
    "# Probem "
   ]
  },
  {
   "cell_type": "markdown",
   "id": "77db6a6b-d0fa-47be-b2dc-c6d159666349",
   "metadata": {},
   "source": [
    "### Swap Two Numeber "
   ]
  },
  {
   "cell_type": "code",
   "execution_count": 7,
   "id": "0fc3ba40-4f09-4dd3-96ca-282d62a865a4",
   "metadata": {},
   "outputs": [
    {
     "name": "stdout",
     "output_type": "stream",
     "text": [
      "After Swapping\n",
      "a = 15\n",
      "b = 10\n"
     ]
    }
   ],
   "source": [
    "a = 10 \n",
    "b = 15\n",
    "a, b = b , a\n",
    "print (\"After Swapping\")\n",
    "print(\"a =\",a)\n",
    "print(\"b =\",b)"
   ]
  },
  {
   "cell_type": "markdown",
   "id": "e22c68be-a41a-4e99-b5ae-ed25603c6b58",
   "metadata": {},
   "source": [
    "### Even or Odd"
   ]
  },
  {
   "cell_type": "code",
   "execution_count": 9,
   "id": "27eafd3e-3953-4f8b-9986-065e1a33980d",
   "metadata": {},
   "outputs": [
    {
     "name": "stdin",
     "output_type": "stream",
     "text": [
      "Enter Any Number 4\n"
     ]
    },
    {
     "name": "stdout",
     "output_type": "stream",
     "text": [
      "Even Number\n"
     ]
    }
   ],
   "source": [
    "num = int(input(\"Enter Any Number\"))\n",
    "if num % 2==0:\n",
    "    print(\"Even Number\")\n",
    "else:\n",
    "    print(\"Odd Number\")"
   ]
  },
  {
   "cell_type": "markdown",
   "id": "eb720512-0e84-4eb4-8c11-5024bb5979ff",
   "metadata": {},
   "source": [
    "## String Reverse \n",
    "https://www.youtube.com/watch?v=NCXrRuCthZY"
   ]
  },
  {
   "cell_type": "raw",
   "id": "c3b0689a-de5f-4a1f-a214-c13ec55d04ef",
   "metadata": {},
   "source": [
    "Hira = 3\n",
    "these three are same [:] \n",
    "                    [0:3]\n",
    "                     [::]\n",
    "print = koreb --> Hira"
   ]
  },
  {
   "cell_type": "code",
   "execution_count": 21,
   "id": "b18b82b4-cf67-4d30-a5d4-35e84c7ac344",
   "metadata": {},
   "outputs": [
    {
     "name": "stdin",
     "output_type": "stream",
     "text": [
      "Enter any Number 34\n"
     ]
    },
    {
     "name": "stdout",
     "output_type": "stream",
     "text": [
      "the reverse string is =  43 \n"
     ]
    }
   ],
   "source": [
    "s = input(\"Enter any Number\")\n",
    "revstr = s[::-1]\n",
    "print(f\"the reverse string is =  {revstr} \")"
   ]
  },
  {
   "cell_type": "markdown",
   "id": "122f9cd6-c97d-4037-b767-1d43ffdf32f1",
   "metadata": {},
   "source": [
    "## String Palindrom "
   ]
  },
  {
   "cell_type": "code",
   "execution_count": 23,
   "id": "e26f4612-3e24-4e7f-b1cb-f9703ff0d439",
   "metadata": {},
   "outputs": [
    {
     "name": "stdin",
     "output_type": "stream",
     "text": [
      "enter Any string  kabir\n"
     ]
    },
    {
     "name": "stdout",
     "output_type": "stream",
     "text": [
      "Not palindrom\n"
     ]
    }
   ],
   "source": [
    "s = input(\"enter Any string \")\n",
    "revstr = s[::-1]\n",
    "if s==revstr:\n",
    "    print(\"Palindrom\")\n",
    "else:\n",
    "    print(\"Not palindrom\")"
   ]
  },
  {
   "cell_type": "markdown",
   "id": "2e078c00-6541-4e70-8136-d5521996f46f",
   "metadata": {},
   "source": [
    "## String Concatination "
   ]
  },
  {
   "cell_type": "code",
   "execution_count": 30,
   "id": "05eb1c46-9993-4626-823a-f565e565af08",
   "metadata": {},
   "outputs": [
    {
     "name": "stdin",
     "output_type": "stream",
     "text": [
      "Enter the First string jit\n",
      "Enter the 2nd string jtie\n"
     ]
    },
    {
     "name": "stdout",
     "output_type": "stream",
     "text": [
      "jit jtie\n"
     ]
    }
   ],
   "source": [
    "string1 = input(\"Enter the First string\")\n",
    "string2= input(\"Enter the 2nd string\")\n",
    "print(string1+\" \"+string2)"
   ]
  },
  {
   "cell_type": "markdown",
   "id": "35b0ef47-973e-4818-bb4e-27db5ef4d14f",
   "metadata": {},
   "source": [
    "## Type Convertion "
   ]
  },
  {
   "cell_type": "code",
   "execution_count": 12,
   "id": "cb5d525b-ce7e-4ce9-a103-106d702ee087",
   "metadata": {},
   "outputs": [
    {
     "name": "stdout",
     "output_type": "stream",
     "text": [
      "list of string =  ['1', '2', '3', '4', '5']\n"
     ]
    }
   ],
   "source": [
    "int_list = [1, 2, 3, 4, 5]\n",
    "str_list = [str(i) for i in int_list]\n",
    "print(\"list of string = \", str_list)"
   ]
  },
  {
   "cell_type": "markdown",
   "id": "1816b32b-7022-4109-9d3d-b28de7ea92cb",
   "metadata": {},
   "source": [
    "## Temperatre Convertion "
   ]
  },
  {
   "cell_type": "code",
   "execution_count": 13,
   "id": "dbe48c16-16a7-48f1-974e-92f244fd6906",
   "metadata": {},
   "outputs": [
    {
     "name": "stdin",
     "output_type": "stream",
     "text": [
      "Enter temperature in Celsius:  43\n"
     ]
    },
    {
     "name": "stdout",
     "output_type": "stream",
     "text": [
      "43.0°C is equal to 109.4°F\n"
     ]
    }
   ],
   "source": [
    "# Temperature Converter: Write a Python program that converts a temperature in Celsius to Fahrenheit. Take the Celsius temperature as input from the user.\n",
    "# Taking Celsius temperature as input from the user\n",
    "celsius = float(input(\"Enter temperature in Celsius: \"))\n",
    "\n",
    "# Converting Celsius to Fahrenheit\n",
    "fahrenheit = (celsius * 9/5) + 32\n",
    "\n",
    "# Output the result\n",
    "print(f\"{celsius}°C is equal to {fahrenheit}°F\")\n"
   ]
  },
  {
   "cell_type": "markdown",
   "id": "ca36d27d-6188-441f-ad5e-7b5179a8a19f",
   "metadata": {},
   "source": [
    "## Data Type Checker "
   ]
  },
  {
   "cell_type": "code",
   "execution_count": 16,
   "id": "84d80c0a-5b54-48f2-83b0-b2ffdb1b9a9d",
   "metadata": {},
   "outputs": [
    {
     "name": "stdout",
     "output_type": "stream",
     "text": [
      "<class 'int'>\n",
      "<class 'str'>\n",
      "<class 'float'>\n"
     ]
    }
   ],
   "source": [
    "rollno = 1\n",
    "name = \"Hira\"\n",
    "marks = 99.99\n",
    "print(type(rollno))\n",
    "print(type(name))\n",
    "print(type(marks))"
   ]
  },
  {
   "cell_type": "code",
   "execution_count": 32,
   "id": "f7dca9d9-989f-425e-afd7-f3d5d5044703",
   "metadata": {},
   "outputs": [
    {
     "name": "stdout",
     "output_type": "stream",
     "text": [
      "114.5 is the answer.\n"
     ]
    }
   ],
   "source": [
    "# Given three variables: a = ‘100’, b = 25, and c = ‘10.5’, write a Python program to perform the following operations and print the results: – Convert a to an integer and add it to b. – Convert c to a float and subtract it from the result of the first operation. – Convert the final result to a string and concatenate it with the string ” is the answer.”\n",
    "\n",
    "# Given variables\n",
    "a = '100'\n",
    "b = 25\n",
    "c = '10.5'\n",
    "\n",
    "# Convert `a` to an integer and add it to `b`\n",
    "a_int = int(a)\n",
    "result = a_int + b\n",
    "\n",
    "# Convert `c` to a float and subtract it from the result\n",
    "c_float = float(c)\n",
    "result -= c_float\n",
    "\n",
    "# Convert the final result to a string and concatenate it with the string \" is the answer.\"\n",
    "result_str = str(result) + \" is the answer.\"\n",
    "\n",
    "# Output the result\n",
    "print(result_str)\n"
   ]
  },
  {
   "cell_type": "markdown",
   "id": "c744ad71-9c56-4405-adb6-1c45c7908b44",
   "metadata": {},
   "source": [
    "# part 2"
   ]
  },
  {
   "cell_type": "markdown",
   "id": "266e10d6-5e1e-4ea3-8035-ca203d4c6b8d",
   "metadata": {},
   "source": [
    "### +ve , -ve or Zero "
   ]
  },
  {
   "cell_type": "code",
   "execution_count": 2,
   "id": "9a1ead90-8d61-466e-8110-36363f06c0c3",
   "metadata": {},
   "outputs": [
    {
     "name": "stdin",
     "output_type": "stream",
     "text": [
      "Enter Any Number -4\n"
     ]
    },
    {
     "name": "stdout",
     "output_type": "stream",
     "text": [
      "This is Negetive Number\n"
     ]
    }
   ],
   "source": [
    "num = int(input(\"Enter Any Number\"))\n",
    "if num<0:\n",
    "    print(\"This is Negetive Number\")\n",
    "elif num>0:\n",
    "    print(\"This is Positive Numbe\")\n",
    "else:\n",
    "    print(\"The number is Zero \")"
   ]
  },
  {
   "cell_type": "markdown",
   "id": "d5f57a68-e1f4-4eea-afb1-aaece4263efd",
   "metadata": {},
   "source": [
    "### Largest among three Number"
   ]
  },
  {
   "cell_type": "code",
   "execution_count": 4,
   "id": "813f08d3-22f1-4105-9643-466bc86a5696",
   "metadata": {},
   "outputs": [
    {
     "name": "stdin",
     "output_type": "stream",
     "text": [
      "Enter the First Number 1\n",
      "Enter the 2nd Number 2\n",
      "Enter the 3rd Number 3\n"
     ]
    },
    {
     "name": "stdout",
     "output_type": "stream",
     "text": [
      "the largest number is 3\n"
     ]
    }
   ],
   "source": [
    "num1 = int(input(\"Enter the First Number\"))\n",
    "num2 = int(input(\"Enter the 2nd Number\"))\n",
    "num3 = int(input(\"Enter the 3rd Number\"))\n",
    "\n",
    "# Initiallly Largest = nnum1\n",
    "largest = num1\n",
    "if num2>largest:\n",
    "    largest =num2\n",
    "if num3>largest:\n",
    "    largest=num3\n",
    "\n",
    "print(f\"the largest number is {largest}\")\n"
   ]
  },
  {
   "cell_type": "markdown",
   "id": "e02ef53b-943e-4d27-b80a-90639f618096",
   "metadata": {},
   "source": [
    "### Leap Year or not "
   ]
  },
  {
   "cell_type": "code",
   "execution_count": 6,
   "id": "2b23a448-c071-4ae4-93f4-45759c697481",
   "metadata": {},
   "outputs": [
    {
     "name": "stdin",
     "output_type": "stream",
     "text": [
      "Enter any Number 2024\n"
     ]
    },
    {
     "name": "stdout",
     "output_type": "stream",
     "text": [
      "This 2024 is Leap year \n"
     ]
    }
   ],
   "source": [
    "year = int(input(\"Enter any Number\"))\n",
    "\n",
    "if (year%4==0 and year%100!=0) or (year%400==0):\n",
    "    print(f\"This {year} is Leap year \")\n",
    "else:\n",
    "    print(f\"This {year} is not Leap year \")"
   ]
  },
  {
   "cell_type": "markdown",
   "id": "d850dbb7-f63d-4c84-a0a3-241e28a6bf99",
   "metadata": {},
   "source": [
    "### Grade Classifiaction "
   ]
  },
  {
   "cell_type": "code",
   "execution_count": 13,
   "id": "b2807849-ed55-4b1a-b399-08dc50e80863",
   "metadata": {},
   "outputs": [
    {
     "name": "stdin",
     "output_type": "stream",
     "text": [
      "provide your Desired Marks  44.4\n"
     ]
    },
    {
     "name": "stdout",
     "output_type": "stream",
     "text": [
      "The grade is Fail\n"
     ]
    }
   ],
   "source": [
    "number = float(input(\"provide your Desired Marks \"))\n",
    "if number >=90:\n",
    "    grade=\"A+\"\n",
    "elif number >=80:\n",
    "    grade=\"A\"\n",
    "elif number >=70:\n",
    "    grade=\"B\"\n",
    "else:\n",
    "    grade=\"Fail\"\n",
    "\n",
    "print(f\"The grade is {grade}\")"
   ]
  },
  {
   "cell_type": "markdown",
   "id": "8d7be0ab-3bb9-4999-be49-f12b6338afd8",
   "metadata": {},
   "source": [
    "### Vowel or Consuenent \n",
    "https://www.youtube.com/watch?v=N1dEdieBHRY&t=257s"
   ]
  },
  {
   "cell_type": "code",
   "execution_count": 48,
   "id": "2e18b4cb-9247-46f3-8afc-d3a04d799d64",
   "metadata": {},
   "outputs": [
    {
     "name": "stdin",
     "output_type": "stream",
     "text": [
      "Enter any Alphabet hira\n"
     ]
    },
    {
     "name": "stdout",
     "output_type": "stream",
     "text": [
      "count vowel 2\n",
      "Count Consunent 2\n"
     ]
    }
   ],
   "source": [
    "variable  = input(\"Enter any Alphabet\")\n",
    "\n",
    "#initialized \n",
    "count_vowels = 0 \n",
    "count_consunent = 0 \n",
    "vowel = 'AEIOUaeiou'\n",
    "for i in variable:\n",
    "    if i in vowel:\n",
    "        count_vowels+=1\n",
    "    else:\n",
    "        count_consunent+=1\n",
    "\n",
    "print('count vowel', count_vowels)\n",
    "print('Count Consunent', count_consunent)\n"
   ]
  },
  {
   "cell_type": "markdown",
   "id": "e6237cd9-191d-4ad0-b32b-0cde7e94eb9e",
   "metadata": {},
   "source": [
    "### Triangle Type"
   ]
  },
  {
   "cell_type": "code",
   "execution_count": 18,
   "id": "692e006d-6e32-461a-9ee4-137807714e17",
   "metadata": {},
   "outputs": [
    {
     "name": "stdin",
     "output_type": "stream",
     "text": [
      "Enter the first side of the triangle:  1\n",
      "Enter the second side of the triangle:  2\n",
      "Enter the third side of the triangle:  3\n"
     ]
    },
    {
     "name": "stdout",
     "output_type": "stream",
     "text": [
      "The triangle is Invalid triangle.\n"
     ]
    }
   ],
   "source": [
    "# 17. Triangle Type Checker: Write a Python program that takes three sides of a triangle as input and determines whether it forms an equilateral, isosceles, or scalene triangle.\n",
    "\n",
    "# Taking the three sides of the triangle as input from the user\n",
    "side1 = float(input(\"Enter the first side of the triangle: \"))\n",
    "side2 = float(input(\"Enter the second side of the triangle: \"))\n",
    "side3 = float(input(\"Enter the third side of the triangle: \"))\n",
    "\n",
    "# Checking if the sides form a valid triangle\n",
    "if (side1 + side2 > side3) and (side1 + side3 > side2) and (side2 + side3 > side1):\n",
    "    # Determining the type of triangle\n",
    "    if side1 == side2 == side3:\n",
    "        triangle_type = \"Equilateral\"\n",
    "    elif side1 == side2 or side1 == side3 or side2 == side3:\n",
    "        triangle_type = \"Isosceles\"\n",
    "    else:\n",
    "        triangle_type = \"Scalene\"\n",
    "else:\n",
    "    triangle_type = \"Invalid triangle\"\n",
    "\n",
    "# Output the type of triangle\n",
    "print(f\"The triangle is {triangle_type}.\")\n"
   ]
  },
  {
   "cell_type": "markdown",
   "id": "60f11fb0-6644-422a-afae-fc87f0adada4",
   "metadata": {},
   "source": [
    "# Part 3 "
   ]
  },
  {
   "cell_type": "markdown",
   "id": "41948642-25d0-41c0-821e-1d60945e47a3",
   "metadata": {},
   "source": [
    "### Sum of n numbers"
   ]
  },
  {
   "cell_type": "code",
   "execution_count": 19,
   "id": "387bcf8a-b93a-49ff-aa5f-b050e3bd58b6",
   "metadata": {},
   "outputs": [
    {
     "name": "stdin",
     "output_type": "stream",
     "text": [
      "Enter any Number 10\n"
     ]
    },
    {
     "name": "stdout",
     "output_type": "stream",
     "text": [
      "The sum of 10 is 55\n"
     ]
    }
   ],
   "source": [
    "num = int(input(\"Enter any Number\"))\n",
    "\n",
    "sum =0 \n",
    "\n",
    "for i in range (1, num+1):\n",
    "    sum+=i\n",
    "\n",
    "print (f\"The sum of {num} is {sum}\")\n"
   ]
  },
  {
   "cell_type": "markdown",
   "id": "ef0c686f-3ba5-4da3-acba-257ae5f8405b",
   "metadata": {},
   "source": [
    "## Factorial Calculation "
   ]
  },
  {
   "cell_type": "code",
   "execution_count": 22,
   "id": "1f17caf0-f435-4a53-9e0e-7e4031ebaa56",
   "metadata": {},
   "outputs": [
    {
     "name": "stdin",
     "output_type": "stream",
     "text": [
      "Enter Any Number which is Greater than 0 4\n"
     ]
    },
    {
     "name": "stdout",
     "output_type": "stream",
     "text": [
      "The Factorial value of is = 24 \n"
     ]
    }
   ],
   "source": [
    "N = int(input(\"Enter Any Number which is Greater than 0\"))\n",
    "fact = 1 \n",
    "while N > 0:\n",
    "    fact*=N\n",
    "    N-=1\n",
    "\n",
    "print(f\"The Factorial value of is = {fact} \")"
   ]
  },
  {
   "cell_type": "markdown",
   "id": "b2272d35-2664-4963-acc3-7deeb12a1de1",
   "metadata": {},
   "source": [
    "### Count Digit in Number\n",
    "https://www.youtube.com/watch?v=STcQTjhIKkc&t=219s"
   ]
  },
  {
   "cell_type": "code",
   "execution_count": 28,
   "id": "49b73e57-a846-42e8-aa59-c4898d43e651",
   "metadata": {},
   "outputs": [
    {
     "name": "stdin",
     "output_type": "stream",
     "text": [
      "Enter a number to count the digit  112\n"
     ]
    },
    {
     "name": "stdout",
     "output_type": "stream",
     "text": [
      "The Digit of this 0 is 3\n"
     ]
    }
   ],
   "source": [
    "num = int(input(\"Enter a number to count the digit \"))\n",
    "count=0\n",
    "while num !=0:\n",
    "    num//=10\n",
    "    count +=1\n",
    "\n",
    "print(f\"The Digit of this {num} is {count}\")\n",
    "    "
   ]
  },
  {
   "cell_type": "markdown",
   "id": "567bad2f-5a45-49f2-9589-c8ab347db258",
   "metadata": {},
   "source": [
    "### Fibonacci Serise \n",
    "https://www.youtube.com/watch?v=Ib1bSQdXBZ0"
   ]
  },
  {
   "cell_type": "code",
   "execution_count": 32,
   "id": "fa4752f3-a22d-4795-8e3a-3da6f1704c97",
   "metadata": {},
   "outputs": [
    {
     "name": "stdin",
     "output_type": "stream",
     "text": [
      "Enter Any Number 10\n"
     ]
    },
    {
     "name": "stdout",
     "output_type": "stream",
     "text": [
      "0 1 1 2 3 5 8 13 21 34 "
     ]
    }
   ],
   "source": [
    "num = int(input(\"Enter Any Number\"))\n",
    "n1 , n2 = 0 , 1\n",
    "sum=0\n",
    "if num<=0:\n",
    "    print(\"Please Enter a Number which is greater Than Zero\")\n",
    "for i in range (0 , num):\n",
    "    print(sum,end=\" \")\n",
    "    n1=n2\n",
    "    n2=sum\n",
    "    sum=n1+n2\n",
    "\n"
   ]
  },
  {
   "cell_type": "markdown",
   "id": "93a659f2-87ec-4f54-8fc2-80b287a1f5a7",
   "metadata": {},
   "source": [
    "### Sum of Even Numbers\n"
   ]
  },
  {
   "cell_type": "code",
   "execution_count": 33,
   "id": "84c8c5e7-4e43-4a74-b1da-28adb634a2b8",
   "metadata": {},
   "outputs": [
    {
     "name": "stdin",
     "output_type": "stream",
     "text": [
      "Enter Any Number 10\n"
     ]
    },
    {
     "name": "stdout",
     "output_type": "stream",
     "text": [
      "The sum of all Even Number between 1 and 10 is : 30\n"
     ]
    }
   ],
   "source": [
    "num = int(input(\"Enter Any Number\"))\n",
    "sum=0 \n",
    "current=2\n",
    "while current<=num:\n",
    "    sum+=current\n",
    "    current +=2\n",
    "print(f\"The sum of all Even Number between 1 and {num} is : {sum}\")"
   ]
  },
  {
   "cell_type": "markdown",
   "id": "1bada212-d5bf-47dd-899e-0119849d4e98",
   "metadata": {},
   "source": [
    "### Prime Number or Not "
   ]
  },
  {
   "cell_type": "code",
   "execution_count": 4,
   "id": "b712f9fa-44dc-47ba-b575-59a0ea0b9c17",
   "metadata": {},
   "outputs": [
    {
     "name": "stdin",
     "output_type": "stream",
     "text": [
      "Enter Any Number 21\n"
     ]
    },
    {
     "name": "stdout",
     "output_type": "stream",
     "text": [
      "Prime Number\n"
     ]
    }
   ],
   "source": [
    "num = int(input(\"Enter Any Number\"))\n",
    "for i in range (2, num):\n",
    "    if num%i==0:\n",
    "        print(\"Not a Prime Number\")\n",
    "        break\n",
    "    else:\n",
    "        print(\"Prime Number\")\n",
    "        break\n",
    "        "
   ]
  },
  {
   "cell_type": "markdown",
   "id": "0f8de2e6-a924-47de-a965-3c18558c7c72",
   "metadata": {},
   "source": [
    "### list--> sum , avg, min_num , max_min\n",
    "https://www.youtube.com/watch?v=i1NG0dxCLv8"
   ]
  },
  {
   "cell_type": "code",
   "execution_count": 3,
   "id": "c96f7518-d51a-4bdc-bef4-0eee40a58d14",
   "metadata": {},
   "outputs": [
    {
     "name": "stdin",
     "output_type": "stream",
     "text": [
      "Enter the Number of Elements:  3\n",
      "Enter the Numbers:  10\n",
      "Enter the Numbers:  20\n",
      "Enter the Numbers:  30\n"
     ]
    },
    {
     "name": "stdout",
     "output_type": "stream",
     "text": [
      "Sum of numbers is:  60\n",
      "Minimum element is:  10\n",
      "Maximum element is:  30\n",
      "Average is:  20.0\n"
     ]
    }
   ],
   "source": [
    "n = int(input(\"Enter the Number of Elements: \"))\n",
    "l1 = []\n",
    "for i in range(n):\n",
    "    element = int(input(\"Enter the Numbers: \"))\n",
    "    l1.append(element)\n",
    "\n",
    "# Use the correct function name 'sum' instead of 'sumint'\n",
    "total = sum(l1)\n",
    "Min = min(l1)\n",
    "Max = max(l1)\n",
    "avg = total / len(l1)  # Corrected the variable 's' to 'total'\n",
    "\n",
    "print(\"Sum of numbers is: \", total)\n",
    "print(\"Minimum element is: \", Min)\n",
    "print(\"Maximum element is: \", Max)\n",
    "print(\"Average is: \", avg)\n"
   ]
  },
  {
   "cell_type": "markdown",
   "id": "e352d060-b5de-437c-8502-6a124a19a256",
   "metadata": {},
   "source": [
    "# Part 4"
   ]
  },
  {
   "cell_type": "markdown",
   "id": "2aa12989-6001-4039-8cad-fc1e69657b2f",
   "metadata": {},
   "source": [
    "### Pattern Problem --> Nested loop \n",
    "https://www.youtube.com/watch?v=JzOtBOF5dWc"
   ]
  },
  {
   "cell_type": "code",
   "execution_count": null,
   "id": "89f0df37-9cc7-45dc-a6ae-5e0f809c2131",
   "metadata": {},
   "outputs": [],
   "source": [
    "1) *****\n",
    "   *****\n",
    "   *****"
   ]
  },
  {
   "cell_type": "code",
   "execution_count": 36,
   "id": "afb13752-1ac5-4b58-845d-fa516c15ee73",
   "metadata": {},
   "outputs": [
    {
     "name": "stdout",
     "output_type": "stream",
     "text": [
      "* * * \n",
      "* * * \n",
      "* * * \n",
      "* * * \n",
      "* * * \n"
     ]
    }
   ],
   "source": [
    "\n",
    "#Row agge dekbe then Column row =i , Column =j\n",
    "for i in range (1,6):\n",
    "    for j in range (1,4):\n",
    "        print(\"*\",end=\" \")\n",
    "    print()\n",
    "    "
   ]
  },
  {
   "cell_type": "code",
   "execution_count": null,
   "id": "e584ff4e-eb63-4076-b600-7aa300a67f84",
   "metadata": {},
   "outputs": [],
   "source": [
    "2) *\n",
    "   **\n",
    "   *** \n",
    "   ****"
   ]
  },
  {
   "cell_type": "code",
   "execution_count": 38,
   "id": "074278e1-3a4c-4bbf-98bc-3e2f4a6988e9",
   "metadata": {},
   "outputs": [
    {
     "name": "stdout",
     "output_type": "stream",
     "text": [
      "* \n",
      "* * \n",
      "* * * \n",
      "* * * * \n"
     ]
    }
   ],
   "source": [
    "r = 4\n",
    "for i in range(1, r+1):\n",
    "    for j in range(1, i+1):\n",
    "        print(\"*\",end=\" \")\n",
    "    print()\n",
    "        "
   ]
  },
  {
   "cell_type": "code",
   "execution_count": null,
   "id": "e6a1bb9b-e09a-4ca1-93ec-7157cfeec5ad",
   "metadata": {},
   "outputs": [],
   "source": [
    "3) ****\n",
    "   ***\n",
    "   **\n",
    "   *\n"
   ]
  },
  {
   "cell_type": "code",
   "execution_count": 41,
   "id": "61fc6124-694a-4c45-b3ce-0926fa02f7d0",
   "metadata": {},
   "outputs": [
    {
     "name": "stdout",
     "output_type": "stream",
     "text": [
      "* * * * \n",
      "* * * \n",
      "* * \n",
      "* \n"
     ]
    }
   ],
   "source": [
    "r = 4\n",
    "for i in range(r, 0, -1):\n",
    "    for j in range(i):\n",
    "        print(\"*\",end=\" \")\n",
    "    print()"
   ]
  },
  {
   "cell_type": "raw",
   "id": "d938b277-4ace-406a-915f-94ddf448dea3",
   "metadata": {},
   "source": [
    "4) 1 \n",
    "   1 2\n",
    "   1 2 3\n",
    "   1 2 3 4\n"
   ]
  },
  {
   "cell_type": "code",
   "execution_count": 47,
   "id": "461b23b3-141d-4e80-8f4b-7fda2385d00f",
   "metadata": {},
   "outputs": [
    {
     "name": "stdout",
     "output_type": "stream",
     "text": [
      "1 \n",
      "1 2 \n",
      "1 2 3 \n"
     ]
    }
   ],
   "source": [
    "r=4\n",
    "for i in range(1, 4):\n",
    "    for j in range(1,i+1):\n",
    "        print(j,end=\" \")\n",
    "    print()"
   ]
  },
  {
   "cell_type": "markdown",
   "id": "0e7adfac-84c8-4bd4-bef1-4bafff30f6b1",
   "metadata": {},
   "source": [
    "## 2 Matrix Multiplicaiton "
   ]
  },
  {
   "cell_type": "code",
   "execution_count": 9,
   "id": "83ec5ba9-5e94-4735-a4d2-e7ead3496e58",
   "metadata": {},
   "outputs": [
    {
     "name": "stdout",
     "output_type": "stream",
     "text": [
      "[26, 32, 38]\n",
      "[36, 45, 54]\n",
      "[86, 110, 134]\n"
     ]
    }
   ],
   "source": [
    "x = [\n",
    "    [1, 2, 3],\n",
    "    [2, 3, 4],\n",
    "    [7, 8, 9]\n",
    "]\n",
    "y = [\n",
    "    [1, 2, 3],\n",
    "    [2, 3, 4],\n",
    "    [7, 8, 9]\n",
    "]\n",
    "\n",
    "# Initialized\n",
    "result = [\n",
    "    [0, 0, 0],\n",
    "    [0, 0, 0],\n",
    "    [0, 0, 0]\n",
    "]\n",
    "\n",
    "# Matrix multiplication\n",
    "for i in range(len(x)):\n",
    "    for j in range(len(y[0])):\n",
    "        for k in range(len(y)):\n",
    "            result[i][j] += x[i][k] * y[k][j]\n",
    "\n",
    "# Printing the result\n",
    "for r in result:\n",
    "    print(r)\n"
   ]
  },
  {
   "cell_type": "markdown",
   "id": "578b01ed-ce86-44fd-85ad-cf259a04c90f",
   "metadata": {},
   "source": [
    "## Multiplicaiton Table "
   ]
  },
  {
   "cell_type": "code",
   "execution_count": 5,
   "id": "fb864ea9-6302-4d3e-bbad-50efbc3694a4",
   "metadata": {},
   "outputs": [
    {
     "name": "stdout",
     "output_type": "stream",
     "text": [
      "Multiplication Table from 1 to 10:\n",
      "1 x 1 = 1\t1 x 2 = 2\t1 x 3 = 3\t1 x 4 = 4\t1 x 5 = 5\t1 x 6 = 6\t1 x 7 = 7\t1 x 8 = 8\t1 x 9 = 9\t1 x 10 = 10\t\n",
      "2 x 1 = 2\t2 x 2 = 4\t2 x 3 = 6\t2 x 4 = 8\t2 x 5 = 10\t2 x 6 = 12\t2 x 7 = 14\t2 x 8 = 16\t2 x 9 = 18\t2 x 10 = 20\t\n",
      "3 x 1 = 3\t3 x 2 = 6\t3 x 3 = 9\t3 x 4 = 12\t3 x 5 = 15\t3 x 6 = 18\t3 x 7 = 21\t3 x 8 = 24\t3 x 9 = 27\t3 x 10 = 30\t\n",
      "4 x 1 = 4\t4 x 2 = 8\t4 x 3 = 12\t4 x 4 = 16\t4 x 5 = 20\t4 x 6 = 24\t4 x 7 = 28\t4 x 8 = 32\t4 x 9 = 36\t4 x 10 = 40\t\n",
      "5 x 1 = 5\t5 x 2 = 10\t5 x 3 = 15\t5 x 4 = 20\t5 x 5 = 25\t5 x 6 = 30\t5 x 7 = 35\t5 x 8 = 40\t5 x 9 = 45\t5 x 10 = 50\t\n",
      "6 x 1 = 6\t6 x 2 = 12\t6 x 3 = 18\t6 x 4 = 24\t6 x 5 = 30\t6 x 6 = 36\t6 x 7 = 42\t6 x 8 = 48\t6 x 9 = 54\t6 x 10 = 60\t\n",
      "7 x 1 = 7\t7 x 2 = 14\t7 x 3 = 21\t7 x 4 = 28\t7 x 5 = 35\t7 x 6 = 42\t7 x 7 = 49\t7 x 8 = 56\t7 x 9 = 63\t7 x 10 = 70\t\n",
      "8 x 1 = 8\t8 x 2 = 16\t8 x 3 = 24\t8 x 4 = 32\t8 x 5 = 40\t8 x 6 = 48\t8 x 7 = 56\t8 x 8 = 64\t8 x 9 = 72\t8 x 10 = 80\t\n",
      "9 x 1 = 9\t9 x 2 = 18\t9 x 3 = 27\t9 x 4 = 36\t9 x 5 = 45\t9 x 6 = 54\t9 x 7 = 63\t9 x 8 = 72\t9 x 9 = 81\t9 x 10 = 90\t\n",
      "10 x 1 = 10\t10 x 2 = 20\t10 x 3 = 30\t10 x 4 = 40\t10 x 5 = 50\t10 x 6 = 60\t10 x 7 = 70\t10 x 8 = 80\t10 x 9 = 90\t10 x 10 = 100\t\n"
     ]
    }
   ],
   "source": [
    "\n",
    "print(\"Multiplication Table from 1 to 10:\")\n",
    "\n",
    "# Outer loop for the first number\n",
    "for i in range(1, 11):\n",
    "    # Inner loop for the second number\n",
    "    for j in range(1, 11):\n",
    "        # Printing the product of i and j\n",
    "        print(f\"{i} x {j} = {i * j}\", end='\\t')\n",
    "    # New line after each row\n",
    "    print()\n"
   ]
  },
  {
   "cell_type": "markdown",
   "id": "69cf9650-a278-4861-abf7-6c5cd9979c65",
   "metadata": {},
   "source": [
    "# part 5"
   ]
  },
  {
   "cell_type": "markdown",
   "id": "60af656b-3715-4cbf-9e1b-7a436a3fd744",
   "metadata": {},
   "source": [
    "### List Comphrension \n",
    "https://www.youtube.com/watch?v=OYnZETHs-4M"
   ]
  },
  {
   "cell_type": "code",
   "execution_count": 16,
   "id": "cb8c58ca-f293-4eb0-a746-132d6098d1ce",
   "metadata": {},
   "outputs": [
    {
     "name": "stdout",
     "output_type": "stream",
     "text": [
      "[1, 2, 3, 4, 5, 6, 7, 8, 9, 10, 11, 12, 13, 14, 15, 16, 17, 18, 19, 20, 21, 22, 23, 24, 25, 26, 27, 28, 29, 30, 31, 32, 33, 34, 35, 36, 37, 38, 39, 40, 41, 42, 43, 44, 45, 46, 47, 48, 49, 50, 51, 52, 53, 54, 55, 56, 57, 58, 59, 60, 61, 62, 63, 64, 65, 66, 67, 68, 69, 70, 71, 72, 73, 74, 75, 76, 77, 78, 79, 80, 81, 82, 83, 84, 85, 86, 87, 88, 89, 90, 91, 92, 93, 94, 95, 96, 97, 98, 99, 100]\n",
      "\n",
      "[1, 2, 3, 4, 5, 6, 7, 8, 9, 10, 11, 12, 13, 14, 15, 16, 17, 18, 19, 20, 21, 22, 23, 24, 25, 26, 27, 28, 29, 30, 31, 32, 33, 34, 35, 36, 37, 38, 39, 40, 41, 42, 43, 44, 45, 46, 47, 48, 49, 50, 51, 52, 53, 54, 55, 56, 57, 58, 59, 60, 61, 62, 63, 64, 65, 66, 67, 68, 69, 70, 71, 72, 73, 74, 75, 76, 77, 78, 79, 80, 81, 82, 83, 84, 85, 86, 87, 88, 89, 90, 91, 92, 93, 94, 95, 96, 97, 98, 99, 100]\n",
      " \n",
      "[2, 4, 6, 8, 10, 12, 14, 16, 18, 20, 22, 24, 26, 28, 30, 32, 34, 36, 38, 40, 42, 44, 46, 48, 50, 52, 54, 56, 58, 60, 62, 64, 66, 68, 70, 72, 74, 76, 78, 80, 82, 84, 86, 88, 90, 92, 94, 96, 98, 100]\n"
     ]
    }
   ],
   "source": [
    "#without List Comprehension \n",
    "\n",
    "l=[]\n",
    "for i in range (1, 101):\n",
    "    l.append(i)\n",
    "print(l)\n",
    "\n",
    "print (\"\")\n",
    "\n",
    "# With Compression \n",
    "n=[m for m in range (1, 101)]\n",
    "print(n)\n",
    "\n",
    "print(\" \")\n",
    "#with list comprehension for even Number \n",
    "n=[m for m in range (1, 101) if m%2==0]\n",
    "print(n)"
   ]
  },
  {
   "cell_type": "markdown",
   "id": "cfe672f9-4a81-47bc-91b2-94bb418558c6",
   "metadata": {},
   "source": [
    "### create list and print new List with square of elementsabs\n",
    "https://www.youtube.com/watch?v=m751AQKDB9M"
   ]
  },
  {
   "cell_type": "code",
   "execution_count": 18,
   "id": "3a926cda-ebea-4c19-a7be-15349bef0140",
   "metadata": {},
   "outputs": [
    {
     "name": "stdout",
     "output_type": "stream",
     "text": [
      "Original list : \n",
      "[1, 2, 3, 4, 5, 6, 7, 8, 9, 10, 11, 12, 13, 14, 15, 16, 17, 18, 19]\n",
      "[1, 4, 9, 16, 25, 36, 49, 64, 81, 100, 121, 144, 169, 196, 225, 256, 289, 324, 361]\n"
     ]
    }
   ],
   "source": [
    "l=[]\n",
    "for i in range (1, 20):\n",
    "    l.append(i)\n",
    "\n",
    "print (\"Original list : \")\n",
    "print(l)\n",
    "newlist =[i*i for i in l ]\n",
    "print(newlist)"
   ]
  },
  {
   "cell_type": "markdown",
   "id": "6c65ad1d-2009-4dc6-a8c5-36989457bd47",
   "metadata": {},
   "source": [
    "### list avg"
   ]
  },
  {
   "cell_type": "code",
   "execution_count": 19,
   "id": "38ef1dad-3312-474e-9ae5-6744eea98ff7",
   "metadata": {},
   "outputs": [
    {
     "name": "stdout",
     "output_type": "stream",
     "text": [
      "The average of the list is: 30.0\n"
     ]
    }
   ],
   "source": [
    "# Sample list of integers\n",
    "numbers = [10, 20, 30, 40, 50]\n",
    "\n",
    "# Calculate the sum of elements\n",
    "total_sum = sum(numbers)\n",
    "\n",
    "# Calculate the number of elements\n",
    "num_elements = len(numbers)\n",
    "\n",
    "# Calculate the average\n",
    "average = total_sum / num_elements\n",
    "\n",
    "# Print the result\n",
    "print(f\"The average of the list is: {average}\")\n"
   ]
  },
  {
   "cell_type": "markdown",
   "id": "3930180f-86d1-4559-9690-b7ea9a0a613b",
   "metadata": {},
   "source": [
    "### list max and min Number"
   ]
  },
  {
   "cell_type": "code",
   "execution_count": 20,
   "id": "958ce4a2-5121-429f-bb5c-9ddc82c3e6bc",
   "metadata": {},
   "outputs": [
    {
     "name": "stdout",
     "output_type": "stream",
     "text": [
      "The maximum value in the list is: 50\n",
      "The minimum value in the list is: 10\n"
     ]
    }
   ],
   "source": [
    "# Sample list of integers\n",
    "numbers = [10, 20, 30, 40, 50]\n",
    "\n",
    "# Find the maximum and minimum values\n",
    "max_value = max(numbers)\n",
    "min_value = min(numbers)\n",
    "\n",
    "# Print the results\n",
    "print(f\"The maximum value in the list is: {max_value}\")\n",
    "print(f\"The minimum value in the list is: {min_value}\")\n"
   ]
  },
  {
   "cell_type": "markdown",
   "id": "896cfd8b-ec12-49ec-b02a-95d9e9aaa9a3",
   "metadata": {},
   "source": [
    "### List Sorting "
   ]
  },
  {
   "cell_type": "code",
   "execution_count": 21,
   "id": "78275cd6-8662-4eda-8671-54ba3dfb4be3",
   "metadata": {},
   "outputs": [
    {
     "name": "stdout",
     "output_type": "stream",
     "text": [
      "The sorted list is: [10, 20, 30, 40, 50]\n"
     ]
    }
   ],
   "source": [
    "# Sample list of integers\n",
    "numbers = [50, 20, 40, 10, 30]\n",
    "\n",
    "# Sorting the list in ascending order\n",
    "numbers.sort()\n",
    "\n",
    "# Print the result\n",
    "print(f\"The sorted list is: {numbers}\")\n"
   ]
  },
  {
   "cell_type": "markdown",
   "id": "cae8ae10-91d3-4215-81da-4f636de7a7c7",
   "metadata": {},
   "source": [
    "### List Filtering"
   ]
  },
  {
   "cell_type": "code",
   "execution_count": 22,
   "id": "87230c2f-3a90-4fdb-8778-e97b692f5395",
   "metadata": {},
   "outputs": [
    {
     "name": "stdout",
     "output_type": "stream",
     "text": [
      "The original list: [1, 2, 3, 4, 5, 6, 7, 8, 9, 10]\n",
      "The list of even numbers: [2, 4, 6, 8, 10]\n"
     ]
    }
   ],
   "source": [
    "# Sample list of integers\n",
    "numbers = [1, 2, 3, 4, 5, 6, 7, 8, 9, 10]\n",
    "\n",
    "# Using list comprehension to filter even numbers\n",
    "even_numbers = [num for num in numbers if num % 2 == 0]\n",
    "\n",
    "# Print the result\n",
    "print(f\"The original list: {numbers}\")\n",
    "print(f\"The list of even numbers: {even_numbers}\")\n"
   ]
  },
  {
   "cell_type": "markdown",
   "id": "c2133c48-1c2c-485b-aa8d-2bef5088f677",
   "metadata": {},
   "source": [
    "### list reverse"
   ]
  },
  {
   "cell_type": "code",
   "execution_count": 23,
   "id": "bb06fb07-535e-412b-8ccc-fcbdf9082125",
   "metadata": {},
   "outputs": [
    {
     "name": "stdout",
     "output_type": "stream",
     "text": [
      "The original list: [1, 2, 3, 4, 5]\n",
      "The reversed list: [5, 4, 3, 2, 1]\n"
     ]
    }
   ],
   "source": [
    "# Sample list of integers\n",
    "numbers = [1, 2, 3, 4, 5]\n",
    "\n",
    "# Initialize an empty list to store the reversed list\n",
    "reversed_list = []\n",
    "\n",
    "# Reverse the list manually\n",
    "for i in range(len(numbers) - 1, -1, -1):  # Start from the last index to the first\n",
    "    reversed_list.append(numbers[i])\n",
    "\n",
    "# Print the result\n",
    "print(f\"The original list: {numbers}\")\n",
    "print(f\"The reversed list: {reversed_list}\")\n"
   ]
  },
  {
   "cell_type": "markdown",
   "id": "5bb003d9-8ad6-46aa-8c5b-32338573f7a2",
   "metadata": {},
   "source": [
    "### List Manipulation"
   ]
  },
  {
   "cell_type": "code",
   "execution_count": 24,
   "id": "937d0e27-e527-4870-b42c-21384cd13112",
   "metadata": {},
   "outputs": [
    {
     "name": "stdout",
     "output_type": "stream",
     "text": [
      "List 1: [1, 2, 3, 4, 5]\n",
      "List 2: [4, 5, 6, 7, 8]\n",
      "Common elements: [4, 5]\n"
     ]
    }
   ],
   "source": [
    "# Sample lists of integers\n",
    "list1 = [1, 2, 3, 4, 5]\n",
    "list2 = [4, 5, 6, 7, 8]\n",
    "\n",
    "# Using list comprehension to find common elements\n",
    "common_elements = [element for element in list1 if element in list2]\n",
    "\n",
    "# Print the result\n",
    "print(f\"List 1: {list1}\")\n",
    "print(f\"List 2: {list2}\")\n",
    "print(f\"Common elements: {common_elements}\")"
   ]
  },
  {
   "cell_type": "markdown",
   "id": "e630e6c8-d531-409b-9478-b54258240bec",
   "metadata": {},
   "source": [
    "### List Element Count "
   ]
  },
  {
   "cell_type": "code",
   "execution_count": 25,
   "id": "f4eb96d3-f1af-498b-bf05-b9166de05d37",
   "metadata": {},
   "outputs": [
    {
     "name": "stdout",
     "output_type": "stream",
     "text": [
      "The element 2 occurs 4 times in the list.\n"
     ]
    }
   ],
   "source": [
    "# Sample list of integers\n",
    "numbers = [1, 2, 3, 2, 4, 2, 5, 2]\n",
    "\n",
    "# Element to count\n",
    "target_element = 2\n",
    "\n",
    "# Count occurrences manually\n",
    "count = 0\n",
    "for num in numbers:\n",
    "    if num == target_element:\n",
    "        count += 1\n",
    "\n",
    "# Print the result\n",
    "print(f\"The element {target_element} occurs {count} times in the list.\")\n"
   ]
  },
  {
   "cell_type": "markdown",
   "id": "e352d026-8db5-422e-8d39-747238a5d3ee",
   "metadata": {},
   "source": [
    "### List Duplicates Removal"
   ]
  },
  {
   "cell_type": "code",
   "execution_count": 26,
   "id": "fc5e6e18-9533-4a67-91ee-0f1275a8db98",
   "metadata": {},
   "outputs": [
    {
     "name": "stdout",
     "output_type": "stream",
     "text": [
      "The original list: [1, 2, 2, 3, 4, 4, 5, 3]\n",
      "The list without duplicates: [1, 2, 3, 4, 5]\n"
     ]
    }
   ],
   "source": [
    "# Sample list of integers with duplicates\n",
    "numbers = [1, 2, 2, 3, 4, 4, 5, 3]\n",
    "\n",
    "# Initialize an empty list to store unique elements\n",
    "unique_numbers = []\n",
    "\n",
    "# Loop through the original list\n",
    "for num in numbers:\n",
    "    if num not in unique_numbers:  # Check if the element is already in the unique list\n",
    "        unique_numbers.append(num)\n",
    "\n",
    "# Print the result\n",
    "print(f\"The original list: {numbers}\")\n",
    "print(f\"The list without duplicates: {unique_numbers}\")\n"
   ]
  },
  {
   "cell_type": "code",
   "execution_count": null,
   "id": "cb0d12c9-8b0d-45e8-9670-18faa5e491a8",
   "metadata": {},
   "outputs": [],
   "source": []
  }
 ],
 "metadata": {
  "kernelspec": {
   "display_name": "Python 3 (ipykernel)",
   "language": "python",
   "name": "python3"
  },
  "language_info": {
   "codemirror_mode": {
    "name": "ipython",
    "version": 3
   },
   "file_extension": ".py",
   "mimetype": "text/x-python",
   "name": "python",
   "nbconvert_exporter": "python",
   "pygments_lexer": "ipython3",
   "version": "3.12.3"
  }
 },
 "nbformat": 4,
 "nbformat_minor": 5
}
