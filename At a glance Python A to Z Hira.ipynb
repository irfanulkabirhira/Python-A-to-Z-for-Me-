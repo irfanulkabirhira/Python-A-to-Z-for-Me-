{
 "cells": [
  {
   "cell_type": "markdown",
   "id": "11041761-1597-457e-93ef-9c211f485578",
   "metadata": {},
   "source": [
    "### Try and Except --why do we use "
   ]
  },
  {
   "cell_type": "code",
   "execution_count": 1,
   "id": "f204b7ce-1c5f-4c9d-8dd3-55945724489b",
   "metadata": {},
   "outputs": [
    {
     "name": "stdin",
     "output_type": "stream",
     "text": [
      "How old are you ? sfd\n"
     ]
    },
    {
     "ename": "ValueError",
     "evalue": "invalid literal for int() with base 10: 'sfd'",
     "output_type": "error",
     "traceback": [
      "\u001b[1;31m---------------------------------------------------------------------------\u001b[0m",
      "\u001b[1;31mValueError\u001b[0m                                Traceback (most recent call last)",
      "Cell \u001b[1;32mIn[1], line 1\u001b[0m\n\u001b[1;32m----> 1\u001b[0m age \u001b[38;5;241m=\u001b[39m \u001b[38;5;28;43mint\u001b[39;49m\u001b[43m(\u001b[49m\u001b[38;5;28;43minput\u001b[39;49m\u001b[43m(\u001b[49m\u001b[38;5;124;43m\"\u001b[39;49m\u001b[38;5;124;43mHow old are you ?\u001b[39;49m\u001b[38;5;124;43m\"\u001b[39;49m\u001b[43m)\u001b[49m\u001b[43m)\u001b[49m\n\u001b[0;32m      2\u001b[0m \u001b[38;5;28;01mif\u001b[39;00m age\u001b[38;5;241m>\u001b[39m\u001b[38;5;241m18\u001b[39m:\n\u001b[0;32m      3\u001b[0m     \u001b[38;5;28mprint\u001b[39m(\u001b[38;5;124m\"\u001b[39m\u001b[38;5;124mYou can drive Car\u001b[39m\u001b[38;5;124m\"\u001b[39m)\n",
      "\u001b[1;31mValueError\u001b[0m: invalid literal for int() with base 10: 'sfd'"
     ]
    }
   ],
   "source": [
    "age = int(input(\"How old are you ?\"))\n",
    "if age>18:\n",
    "    print(\"You can drive Car\")"
   ]
  },
  {
   "cell_type": "markdown",
   "id": "146984ef-98ac-4c3d-9e37-aa1eada1e8ec",
   "metadata": {},
   "source": [
    "##### T fix the error --> we will use Try and Catch"
   ]
  },
  {
   "cell_type": "code",
   "execution_count": 5,
   "id": "9f4fd045-6bd0-4e5a-97fa-ff4ad91d55fd",
   "metadata": {},
   "outputs": [
    {
     "name": "stdin",
     "output_type": "stream",
     "text": [
      "How old are ?  ira\n"
     ]
    },
    {
     "name": "stdout",
     "output_type": "stream",
     "text": [
      "you have typed in an Invalied Please Type something Numarical \n"
     ]
    },
    {
     "name": "stdin",
     "output_type": "stream",
     "text": [
      "How old are you ? 12\n"
     ]
    },
    {
     "name": "stdout",
     "output_type": "stream",
     "text": [
      "Sorry You can not drive at this age 12.\n"
     ]
    }
   ],
   "source": [
    "try:\n",
    "    age = int(input(\"How old are ? \"))\n",
    "except ValueError:\n",
    "    print(\"you have typed in an Invalied Please Type something Numarical \")\n",
    "    age = int(input(\"How old are you ?\"))\n",
    "\n",
    "if age > 18:\n",
    "    print(f\"You can drive at age {age}.\")\n",
    "else:\n",
    "    print(f\"Sorry You can not drive at this age {age}.\")\n"
   ]
  },
  {
   "cell_type": "markdown",
   "id": "168aeead-e13f-4db8-a080-47b98d9c1cf5",
   "metadata": {},
   "source": [
    "### Normal Problem"
   ]
  },
  {
   "cell_type": "code",
   "execution_count": 6,
   "id": "e8ab4d4e-3086-4dc1-9ca4-17c44459fc45",
   "metadata": {},
   "outputs": [
    {
     "name": "stdin",
     "output_type": "stream",
     "text": [
      "Number of Pages = 12\n",
      "Number of words per pages = 13\n"
     ]
    },
    {
     "name": "stdout",
     "output_type": "stream",
     "text": [
      "The Number of pages 12 and Word per pages is 13 so the Total words is 156\n"
     ]
    }
   ],
   "source": [
    "word_per_page = 0\n",
    "pages = int(input(\"Number of Pages =\"))\n",
    "word_per_page = int(input(\"Number of words per pages =\"))\n",
    "total_words = pages * word_per_page\n",
    "\n",
    "print(f\"The Number of pages {pages} and Word per pages is {word_per_page} so the Total words is {total_words}\")\n"
   ]
  },
  {
   "cell_type": "markdown",
   "id": "4e47dff3-92c5-47c6-8adf-40b99d5f3f51",
   "metadata": {},
   "source": [
    "## User Defined Function "
   ]
  },
  {
   "cell_type": "code",
   "execution_count": 69,
   "id": "9ccc00c9-fa25-4726-9968-f9e07bbeae24",
   "metadata": {},
   "outputs": [
    {
     "name": "stdout",
     "output_type": "stream",
     "text": [
      "Hello I am Hira\n"
     ]
    }
   ],
   "source": [
    "def my_function():\n",
    "    print(\"Hello I am Hira\")\n",
    "    \n",
    "my_function() #Calling the my_function "
   ]
  },
  {
   "cell_type": "code",
   "execution_count": 70,
   "id": "d3013d0e-0803-4d27-8618-cea228026282",
   "metadata": {},
   "outputs": [],
   "source": [
    "def details_bill():\n",
    "    print (\"The last date of the bill payment is on next week Sunday\")\n",
    "    print (\"After deadline , you need to pay Rs 1000 as a fine\")\n",
    "    print (\"pay you bill soon\")"
   ]
  },
  {
   "cell_type": "code",
   "execution_count": 71,
   "id": "01f04bc7-ae75-4ab1-af10-6dd4eee2020e",
   "metadata": {},
   "outputs": [
    {
     "name": "stdin",
     "output_type": "stream",
     "text": [
      "Enter youe name hira\n",
      "enter the unit os elecetiricity you have sunday 500\n"
     ]
    },
    {
     "name": "stdout",
     "output_type": "stream",
     "text": [
      "Total amount of bill you need to pay is 5000\n",
      "The last date of the bill payment is on next week Sunday\n",
      "After deadline , you need to pay Rs 1000 as a fine\n",
      "pay you bill soon\n"
     ]
    },
    {
     "name": "stdin",
     "output_type": "stream",
     "text": [
      "Enter youe name Topu\n",
      "enter the unit os elecetiricity you have sunday 1000\n"
     ]
    },
    {
     "name": "stdout",
     "output_type": "stream",
     "text": [
      "Total amount of bill you need to pay is 10000\n",
      "The last date of the bill payment is on next week Sunday\n",
      "After deadline , you need to pay Rs 1000 as a fine\n",
      "pay you bill soon\n"
     ]
    },
    {
     "name": "stdin",
     "output_type": "stream",
     "text": [
      "Enter youe name Mili\n",
      "enter the unit os elecetiricity you have sunday 700\n"
     ]
    },
    {
     "name": "stdout",
     "output_type": "stream",
     "text": [
      "Total amount of bill you need to pay is 7000\n",
      "The last date of the bill payment is on next week Sunday\n",
      "After deadline , you need to pay Rs 1000 as a fine\n",
      "pay you bill soon\n"
     ]
    }
   ],
   "source": [
    "for i in range (3):\n",
    "    a =input(\"Enter youe name\")\n",
    "    b =int(input(\"enter the unit os elecetiricity you have sunday\"))\n",
    "    bill =b*10\n",
    "    print (\"Total amount of bill you need to pay is\", bill)\n",
    "    details_bill()"
   ]
  },
  {
   "cell_type": "code",
   "execution_count": 7,
   "id": "3f0152b4-8f5a-4d64-9b59-6bed57dd38c7",
   "metadata": {},
   "outputs": [
    {
     "name": "stdout",
     "output_type": "stream",
     "text": [
      "Hello Md Irfanul Kabir Hira \n",
      "What is it like in Chittagong\n"
     ]
    }
   ],
   "source": [
    "def great_with(name , location):\n",
    "    print(f\"Hello {name}\")\n",
    "    print(f\"What is it like in {location}\")\n",
    "\n",
    "great_with(\"Md Irfanul Kabir Hira \", \"Chittagong\")"
   ]
  },
  {
   "cell_type": "markdown",
   "id": "76121102-3a87-458a-8d71-01b92d3a810e",
   "metadata": {},
   "source": [
    "## Argument"
   ]
  },
  {
   "cell_type": "code",
   "execution_count": 72,
   "id": "cd072efc-9fbc-4b10-a57b-d9adc2db467c",
   "metadata": {},
   "outputs": [],
   "source": [
    "def check_even_odd(number):\n",
    "    if number%2==0:\n",
    "        print(\"The number is even\")\n",
    "    else:\n",
    "        print (\"The number is odd\")"
   ]
  },
  {
   "cell_type": "code",
   "execution_count": 73,
   "id": "92e8eb06-b90d-4e17-b572-dd3f3f862866",
   "metadata": {},
   "outputs": [
    {
     "name": "stdout",
     "output_type": "stream",
     "text": [
      "The number is even\n"
     ]
    }
   ],
   "source": [
    "check_even_odd(24)"
   ]
  },
  {
   "cell_type": "code",
   "execution_count": 74,
   "id": "a8e16152-b64b-490d-bd0f-679cbc654975",
   "metadata": {},
   "outputs": [
    {
     "name": "stdout",
     "output_type": "stream",
     "text": [
      "The number is odd\n"
     ]
    }
   ],
   "source": [
    "check_even_odd(27)"
   ]
  },
  {
   "cell_type": "markdown",
   "id": "0fcaf173-819d-4e34-bd53-fc1e95a77bea",
   "metadata": {},
   "source": [
    "# 2 Arguments "
   ]
  },
  {
   "cell_type": "code",
   "execution_count": 75,
   "id": "4b907e62-3001-4f8e-83fd-8c1c688ebc67",
   "metadata": {},
   "outputs": [],
   "source": [
    "def my_name(fname,lname):\n",
    "    print (fname +\" \" +lname)"
   ]
  },
  {
   "cell_type": "code",
   "execution_count": null,
   "id": "a9b051ec-a6f7-421a-b388-850e1cda2879",
   "metadata": {},
   "outputs": [],
   "source": [
    "my_name(\"Hira\" , \"Jira\")"
   ]
  },
  {
   "cell_type": "markdown",
   "id": "a21a6acb-091c-4062-a77b-9f02382c2cf4",
   "metadata": {},
   "source": [
    "Question 1 :\n",
    "Write a user-defined function to process the exam scores and calculate the following statistics :\n",
    "\n",
    "The average exam score .\n",
    "the Heighest exam Score .\n",
    "The lowest exam score .\n",
    "The number of students who passed the exam(assuming a passing score is 80 or above ).\n",
    "The numeber of students who failed the exam .\n",
    "\n",
    "exam_score = [ 85 , 92, 78 , 90 , 88 , 95 , 82 , 79 , 87 , 91 ]"
   ]
  },
  {
   "cell_type": "code",
   "execution_count": null,
   "id": "8d7abc1f-5c6f-467f-ac21-5b1071f41497",
   "metadata": {},
   "outputs": [],
   "source": [
    "def calculate_exam_statistics(exam_scores):\n",
    "    num_students = len(exam_scores)\n",
    "    average_score = sum(exam_scores) / num_students\n",
    "    highest_score = max(exam_scores)\n",
    "    lowest_score = min(exam_scores)\n",
    "\n",
    "    num_passed = 0\n",
    "    for score in exam_scores:\n",
    "        if score >= 80:\n",
    "            num_passed += 1\n",
    "    num_failed = num_students - num_passed\n",
    "    return average_score, highest_score, lowest_score, num_passed, num_failed\n",
    "\n",
    "# Example usage\n",
    "exam_scores = [85, 92, 78, 90, 88, 95, 82, 79, 87, 91]\n",
    "average_score, highest_score, lowest_score, num_passed, num_failed = calculate_exam_statistics(exam_scores)\n",
    "\n",
    "print(\"The average score is\", average_score)\n",
    "print(\"The Highest score is\", highest_score)\n",
    "print(\"The Lowest score is\", lowest_score)\n",
    "print(\"The Number of students passed is\", num_passed)\n",
    "print(\"The Number of students failed is\", num_failed)"
   ]
  },
  {
   "cell_type": "code",
   "execution_count": null,
   "id": "880d2c4a-4198-4ddf-ba14-59acae6a6a68",
   "metadata": {},
   "outputs": [],
   "source": [
    "Ans : \n",
    "The average score is 86.7\n",
    "The Highest score is 95\n",
    "The Lowest score is 78\n",
    "The Number of student passed is  8\n",
    "The Number of student failed is  2"
   ]
  },
  {
   "cell_type": "markdown",
   "id": "909c3282-c20b-4fde-bf0a-0cf3358e3840",
   "metadata": {},
   "source": [
    "Quesiton 1 : \n",
    "You are given a dataset of students grades and need to determine the grade distribution.\n",
    "\n",
    "Question : Write a python Funciton \n",
    "grade_distributin(grades) that takes a list of integer representing \n",
    "student grades (0-100). Use a loop to count the number of grades in each grade catagory :\n",
    "'A' ( 90-100) , 'B' (80-89) , 'C' (70-79), 'D' (60-69) , and 'F'(below 60).\n",
    "Use if_elif_else statements within the loop to categorize the grades.\n",
    "Return a dictionay with the counts of each grade category ."
   ]
  },
  {
   "cell_type": "code",
   "execution_count": 77,
   "id": "c56ef199-343a-4ef7-b608-224cc8b80bec",
   "metadata": {},
   "outputs": [],
   "source": [
    "def grade_distribution (grades):\n",
    "    for grade in grades:\n",
    "        if 90<=grade <=100:\n",
    "            print(\"You have got A grade\")\n",
    "        elif 80<=grade <=89:\n",
    "            print(\"You have got B grade\")\n",
    "        elif 70<=grade <=79:\n",
    "            print(\"You have got C grade\")\n",
    "        elif 60<=grade <=69:\n",
    "            print(\"You have got D grade\")\n",
    "        else:\n",
    "            print(\"You have got E grade\")\n",
    "    return"
   ]
  },
  {
   "cell_type": "code",
   "execution_count": 78,
   "id": "4dd7d0e7-7b82-49a8-bf03-4dc8203f9d04",
   "metadata": {},
   "outputs": [
    {
     "name": "stdout",
     "output_type": "stream",
     "text": [
      "You have got B grade\n",
      "You have got A grade\n",
      "You have got B grade\n",
      "You have got C grade\n",
      "You have got D grade\n",
      "You have got A grade\n",
      "You have got C grade\n",
      "You have got E grade\n",
      "You have got B grade\n",
      "You have got D grade\n",
      "You have got C grade\n"
     ]
    }
   ],
   "source": [
    "grades = [85, 92,88,74,63,95,70,58,82,67,73]\n",
    "grade_distribution(grades)"
   ]
  },
  {
   "cell_type": "markdown",
   "id": "dfacf933-b2b6-48b9-a740-2b796184a08e",
   "metadata": {},
   "source": [
    "Question 2 : \n",
    "You are creating a number guessing game where the computer generates a random number\n",
    "between 1 and 100 , and the palyer has to guess it .\n",
    "\n",
    "Write a python code to generate a random number between 1 and 100 \n",
    "Use control flow statements and loops to allow the player to guess the number and provide feedback \n",
    "(too high , too low , or correct ).\n",
    "Define a user_deined function to encapsulate the game logic and call this function to play the game."
   ]
  },
  {
   "cell_type": "code",
   "execution_count": 10,
   "id": "89846b9e-f13b-4b9f-818b-a556417e2778",
   "metadata": {},
   "outputs": [],
   "source": [
    "import random \n",
    "def number_gussing_game():\n",
    "    secret_number = random.randint(1, 100)\n",
    "    print(secret_number)\n",
    "    print(\"Welcome to the Number Gussing game\")\n",
    "    print(\"I have the number between 1 to 100 , Can you guess it ?\")\n",
    "    attempts = 0 \n",
    "    guess = None \n",
    "    while guess !=secret_number:\n",
    "        guess = int(input(\"Enter Your Guess\"))\n",
    "        attempts = attempts + 1\n",
    "        if guess<secret_number:\n",
    "            print(\"Too low , Try again\")\n",
    "        elif guess > secret_number:\n",
    "            print(\"Too high, Try again\")\n",
    "        else:\n",
    "            print(\"Congratulations you have guessed the correct number\")\n",
    "            print(\"The number of attempts in guessing the correct number is\", attempts)"
   ]
  },
  {
   "cell_type": "code",
   "execution_count": 80,
   "id": "3d0e1b09-69dd-4d62-9a8a-b83054ca5ac6",
   "metadata": {},
   "outputs": [
    {
     "name": "stdout",
     "output_type": "stream",
     "text": [
      "12\n",
      "Welcome to the Number Gussing game\n",
      "I have the number between 1 to 100 , Can you guess it ?\n"
     ]
    },
    {
     "name": "stdin",
     "output_type": "stream",
     "text": [
      "Enter Your Guess 25\n"
     ]
    },
    {
     "name": "stdout",
     "output_type": "stream",
     "text": [
      "Too high, Try again\n"
     ]
    },
    {
     "name": "stdin",
     "output_type": "stream",
     "text": [
      "Enter Your Guess 10\n"
     ]
    },
    {
     "name": "stdout",
     "output_type": "stream",
     "text": [
      "Too low , Try again\n"
     ]
    },
    {
     "name": "stdin",
     "output_type": "stream",
     "text": [
      "Enter Your Guess 15\n"
     ]
    },
    {
     "name": "stdout",
     "output_type": "stream",
     "text": [
      "Too high, Try again\n"
     ]
    },
    {
     "name": "stdin",
     "output_type": "stream",
     "text": [
      "Enter Your Guess 12\n"
     ]
    },
    {
     "name": "stdout",
     "output_type": "stream",
     "text": [
      "Congratulations you have guessed the correct number\n",
      "The number of attempts in guessing the correct number is 4\n"
     ]
    }
   ],
   "source": [
    "number_gussing_game()"
   ]
  },
  {
   "cell_type": "markdown",
   "id": "7e28b0e0-954c-45a9-9bf2-e52e0e633644",
   "metadata": {},
   "source": [
    "### Game - > name Random number Guess"
   ]
  },
  {
   "cell_type": "code",
   "execution_count": 4,
   "id": "dc17d832-7c3a-408e-8cd3-8a17a71e7275",
   "metadata": {},
   "outputs": [
    {
     "name": "stderr",
     "output_type": "stream",
     "text": [
      "<>:3: SyntaxWarning: invalid escape sequence '\\ '\n",
      "<>:11: SyntaxWarning: invalid escape sequence '\\ '\n",
      "<>:20: SyntaxWarning: invalid escape sequence '\\ '\n",
      "<>:3: SyntaxWarning: invalid escape sequence '\\ '\n",
      "<>:11: SyntaxWarning: invalid escape sequence '\\ '\n",
      "<>:20: SyntaxWarning: invalid escape sequence '\\ '\n",
      "C:\\Users\\hirak\\AppData\\Local\\Temp\\ipykernel_1228\\1802849662.py:3: SyntaxWarning: invalid escape sequence '\\ '\n",
      "  stages = ['''\n",
      "C:\\Users\\hirak\\AppData\\Local\\Temp\\ipykernel_1228\\1802849662.py:11: SyntaxWarning: invalid escape sequence '\\ '\n",
      "  ''','''\n",
      "C:\\Users\\hirak\\AppData\\Local\\Temp\\ipykernel_1228\\1802849662.py:20: SyntaxWarning: invalid escape sequence '\\ '\n",
      "  ''' , '''\n"
     ]
    },
    {
     "name": "stdout",
     "output_type": "stream",
     "text": [
      "baboon\n",
      "______\n",
      "*********<???> 6/6 LIVES Left ***************\n"
     ]
    },
    {
     "name": "stdin",
     "output_type": "stream",
     "text": [
      "Guess a letter lower:  b\n"
     ]
    },
    {
     "name": "stdout",
     "output_type": "stream",
     "text": [
      " b_b___\n",
      "\n",
      " +----+\n",
      " |    |\n",
      "      |\n",
      "      |\n",
      "      |\n",
      "==========\n",
      "\n",
      "\n",
      "*********<???> 6/6 LIVES Left ***************\n"
     ]
    },
    {
     "name": "stdin",
     "output_type": "stream",
     "text": [
      "Guess a letter lower:  o\n"
     ]
    },
    {
     "name": "stdout",
     "output_type": "stream",
     "text": [
      " b_boo_\n",
      "\n",
      " +----+\n",
      " |    |\n",
      "      |\n",
      "      |\n",
      "      |\n",
      "==========\n",
      "\n",
      "\n",
      "*********<???> 6/6 LIVES Left ***************\n"
     ]
    },
    {
     "name": "stdin",
     "output_type": "stream",
     "text": [
      "Guess a letter lower:  a\n"
     ]
    },
    {
     "name": "stdout",
     "output_type": "stream",
     "text": [
      " baboo_\n",
      "\n",
      " +----+\n",
      " |    |\n",
      "      |\n",
      "      |\n",
      "      |\n",
      "==========\n",
      "\n",
      "\n",
      "*********<???> 6/6 LIVES Left ***************\n"
     ]
    },
    {
     "name": "stdin",
     "output_type": "stream",
     "text": [
      "Guess a letter lower:  d\n"
     ]
    },
    {
     "name": "stdout",
     "output_type": "stream",
     "text": [
      " baboo_\n",
      "\n",
      " +----+\n",
      " |    |\n",
      " 0    |\n",
      "      |\n",
      "      |\n",
      "==========\n",
      "\n",
      "*********<???> 5/6 LIVES Left ***************\n"
     ]
    },
    {
     "name": "stdin",
     "output_type": "stream",
     "text": [
      "Guess a letter lower:  e\n"
     ]
    },
    {
     "name": "stdout",
     "output_type": "stream",
     "text": [
      " baboo_\n",
      "\n",
      " +----+\n",
      " |    |\n",
      " 0    |\n",
      " |    |\n",
      "      |\n",
      "      |     \n",
      "==========\n",
      "\n",
      "\n",
      "*********<???> 4/6 LIVES Left ***************\n"
     ]
    },
    {
     "name": "stdin",
     "output_type": "stream",
     "text": [
      "Guess a letter lower:  e\n"
     ]
    },
    {
     "name": "stdout",
     "output_type": "stream",
     "text": [
      " baboo_\n",
      "\n",
      "\n",
      " +----+\n",
      " |    |\n",
      " 0    |\n",
      "/|    |     \n",
      "      |\n",
      "      |\n",
      "==========\n",
      "\n",
      "\n",
      "*********<???> 3/6 LIVES Left ***************\n"
     ]
    },
    {
     "name": "stdin",
     "output_type": "stream",
     "text": [
      "Guess a letter lower:  f\n"
     ]
    },
    {
     "name": "stdout",
     "output_type": "stream",
     "text": [
      " baboo_\n",
      "\n",
      " +----+\n",
      " |    |\n",
      " 0    |\n",
      "/|\\   |\n",
      "      |   \n",
      "==========\n",
      "\n",
      "*********<???> 2/6 LIVES Left ***************\n"
     ]
    },
    {
     "name": "stdin",
     "output_type": "stream",
     "text": [
      "Guess a letter lower:  \n"
     ]
    },
    {
     "name": "stdout",
     "output_type": "stream",
     "text": [
      " baboo_\n",
      "\n",
      " +----+\n",
      " |    |\n",
      " 0    |\n",
      "/|\\   |\n",
      "      |   \n",
      "==========\n",
      "\n",
      "*********<???> 2/6 LIVES Left ***************\n"
     ]
    },
    {
     "name": "stdin",
     "output_type": "stream",
     "text": [
      "Guess a letter lower:  d\n"
     ]
    },
    {
     "name": "stdout",
     "output_type": "stream",
     "text": [
      " baboo_\n",
      "\n",
      " +----+\n",
      " |    |\n",
      " 0    |\n",
      "/|\\   |\n",
      "/     |\n",
      "      |\n",
      "==========\n",
      "\n",
      "\n",
      "*********<???> 1/6 LIVES Left ***************\n"
     ]
    },
    {
     "name": "stdin",
     "output_type": "stream",
     "text": [
      "Guess a letter lower:  a\n"
     ]
    },
    {
     "name": "stdout",
     "output_type": "stream",
     "text": [
      " baboo_\n",
      "\n",
      " +----+\n",
      " |    |\n",
      " 0    |\n",
      "/|\\   |\n",
      "/     |\n",
      "      |\n",
      "==========\n",
      "\n",
      "\n",
      "*********<???> 1/6 LIVES Left ***************\n"
     ]
    },
    {
     "name": "stdin",
     "output_type": "stream",
     "text": [
      "Guess a letter lower:  p\n"
     ]
    },
    {
     "name": "stdout",
     "output_type": "stream",
     "text": [
      " baboo_\n",
      "*************** It was baboon! You loss The game,Wish You all the Best for the next time !!******************\n",
      "\n",
      " +----+\n",
      " |    |\n",
      " 0    |\n",
      "/|\\   |\n",
      "/ \\   |\n",
      "      |\n",
      "==========\n",
      "\n"
     ]
    }
   ],
   "source": [
    "import random\n",
    "\n",
    "stages = ['''\n",
    " +----+\n",
    " |    |\n",
    " 0    |\n",
    "/|\\   |\n",
    "/ \\   |\n",
    "      |\n",
    "==========\n",
    "''','''\n",
    " +----+\n",
    " |    |\n",
    " 0    |\n",
    "/|\\   |\n",
    "/     |\n",
    "      |\n",
    "==========\n",
    "\n",
    "''' , '''\n",
    " +----+\n",
    " |    |\n",
    " 0    |\n",
    "/|\\   |\n",
    "      |   \n",
    "==========\n",
    "''' , '''\n",
    "\n",
    " +----+\n",
    " |    |\n",
    " 0    |\n",
    "/|    |     \n",
    "      |\n",
    "      |\n",
    "==========\n",
    "\n",
    "''' , '''\n",
    " +----+\n",
    " |    |\n",
    " 0    |\n",
    " |    |\n",
    "      |\n",
    "      |     \n",
    "==========\n",
    "\n",
    "''' , '''\n",
    " +----+\n",
    " |    |\n",
    " 0    |\n",
    "      |\n",
    "      |\n",
    "==========\n",
    "''' , '''\n",
    " +----+\n",
    " |    |\n",
    "      |\n",
    "      |\n",
    "      |\n",
    "==========\n",
    "\n",
    "''']\n",
    "\n",
    "\n",
    "word_list = [\"aardvark\" , \"baboon\" , \"camel\"]\n",
    "\n",
    "# Create a variable called 'Lives' to keep the track of lives left\n",
    "# Set 'Lives' to equal 6.\n",
    "lives = 6\n",
    "\n",
    "\n",
    "chosen_word = random.choice(word_list)\n",
    "print(chosen_word)\n",
    "\n",
    "\n",
    "# step 1 : To Create a placeholer\n",
    "placeholder = \"\"\n",
    "word_lentgh = len(chosen_word)\n",
    "for position in range(word_lentgh):\n",
    "    placeholder+=\"_\"\n",
    "print(placeholder)\n",
    "\n",
    "# Use a while loop to let user guess again\n",
    "game_over = False\n",
    "correct_letters = []\n",
    "while not game_over:\n",
    "    # TODO-6 : Update the code below to tell the user how many lives they have left .\n",
    "    print(f\"*********<???> {lives}/6 LIVES Left ***************\")\n",
    "    guess = input(\"Guess a letter lower: \").lower()\n",
    "\n",
    "    # TODO-4: Id the user entered a letter thet have already guess, print the letter\n",
    "    display = \" \"\n",
    "\n",
    "    for letter in chosen_word:\n",
    "        if letter == guess:\n",
    "            display += letter\n",
    "            correct_letters.append(guess)\n",
    "        elif letter in correct_letters:\n",
    "            display += letter\n",
    "        else:\n",
    "            display += \"_\"\n",
    "\n",
    "    print(display)\n",
    "\n",
    "    # Step 2: If guess is not letter in the Chosen_word, then reduce 'Lives' by 1\n",
    "    # If lives guess down to 0 then the game should stop and it should prind \"You lose the game\"\n",
    "\n",
    "    if guess not in chosen_word:\n",
    "        lives -= 1\n",
    "        if lives == 0:\n",
    "            game_over = True\n",
    "            print(f\"*************** It was {chosen_word}! You loss The game,Wish You all the Best for the next time !!******************\")\n",
    "\n",
    "    if \"_\" not in display:\n",
    "        game_over=True\n",
    "        print(\"***********You Win.!!****************\")\n",
    "    # Step 3 : Print the Asci Art from the satges\n",
    "    # that Corresponsing to the current number of 'lives' the uses has remaining.\n",
    "\n",
    "    print(stages[lives])"
   ]
  },
  {
   "cell_type": "markdown",
   "id": "cb24f4a0-fcc8-44b8-8738-405086d51271",
   "metadata": {},
   "source": [
    "### Number Gussing game : From 100 days of Python "
   ]
  },
  {
   "cell_type": "code",
   "execution_count": 8,
   "id": "8ae3c50e-acaf-4aa2-b725-939e8469f9b7",
   "metadata": {},
   "outputs": [
    {
     "name": "stderr",
     "output_type": "stream",
     "text": [
      "<>:1: SyntaxWarning: invalid escape sequence '\\|'\n",
      "<>:1: SyntaxWarning: invalid escape sequence '\\|'\n",
      "C:\\Users\\hirak\\AppData\\Local\\Temp\\ipykernel_1228\\4057086534.py:1: SyntaxWarning: invalid escape sequence '\\|'\n",
      "  logo = \"\"\"\n"
     ]
    },
    {
     "name": "stdout",
     "output_type": "stream",
     "text": [
      "\n",
      " _______           _______  _______  _______     _________          _______      _                 _______  ______   _______  _______   \n",
      "(  ____ \\|\\     /|(  ____ \\(  ____ \\(  ____ \\    \\__   __/|\\     /|(  ____ \\    ( (    /||\\     /|(       )(  ___ \\ (  ____ \\(  ____ )  \n",
      "| (    \\/| )   ( || (    \\/| (    \\/| (    \\/       ) (   | )   ( || (    \\/    |  \\  ( || )   ( || () () || (   ) )| (    \\/| (    )|  \n",
      "| |      | |   | || (__    | (_____ | (_____        | |   | (___) || (__        |   \\ | || |   | || || || || (__/ / | (__    | (____)|  \n",
      "| | ____ | |   | ||  __)   (_____  )(_____  )       | |   |  ___  ||  __)       | (\\ \\) || |   | || |(_)| ||  __ (  |  __)   |     __)  \n",
      "| | \\_  )| |   | || (            ) |      ) |       | |   | (   ) || (          | | \\   || |   | || |   | || (  \\ \\ | (      | (\\ (     \n",
      "| (___) || (___) || (____/\\/\\____) |/\\____) |       | |   | )   ( || (____/\\    | )  \\  || (___) || )   ( || )___) )| (____/\\| ) \\ \\__  \n",
      "(_______)(_______)(_______/\\_______)\\_______)       )_(   |/     \\|(_______/    |/    )_)(_______)|/     \\||/ \\___/ (_______/|/   \\__/  \n",
      "\n",
      "Welcome to the number Gussing Game\n",
      "I am thinking of Number Between 1 to 20\n",
      "Past , the correct answer is 6\n"
     ]
    },
    {
     "name": "stdin",
     "output_type": "stream",
     "text": [
      "Choose a Difficulty Type.Type 'easy' or 'hard' :  easy\n"
     ]
    },
    {
     "name": "stdout",
     "output_type": "stream",
     "text": [
      "you have 10 attempts remaining to guess the number\n"
     ]
    },
    {
     "name": "stdin",
     "output_type": "stream",
     "text": [
      "Make a guess :  7\n"
     ]
    },
    {
     "name": "stdout",
     "output_type": "stream",
     "text": [
      "*****Too High!! *******\n",
      "guess Again. Wish You all the Best !!!\n",
      "you have 9 attempts remaining to guess the number\n"
     ]
    },
    {
     "name": "stdin",
     "output_type": "stream",
     "text": [
      "Make a guess :  6\n"
     ]
    },
    {
     "name": "stdout",
     "output_type": "stream",
     "text": [
      " ****Congratulations !!! <3.*** You got it, the answer was 6\n"
     ]
    }
   ],
   "source": [
    "logo = \"\"\"\n",
    " _______           _______  _______  _______     _________          _______      _                 _______  ______   _______  _______   \n",
    "(  ____ \\|\\     /|(  ____ \\(  ____ \\(  ____ \\    \\__   __/|\\     /|(  ____ \\    ( (    /||\\     /|(       )(  ___ \\ (  ____ \\(  ____ )  \n",
    "| (    \\/| )   ( || (    \\/| (    \\/| (    \\/       ) (   | )   ( || (    \\/    |  \\  ( || )   ( || () () || (   ) )| (    \\/| (    )|  \n",
    "| |      | |   | || (__    | (_____ | (_____        | |   | (___) || (__        |   \\ | || |   | || || || || (__/ / | (__    | (____)|  \n",
    "| | ____ | |   | ||  __)   (_____  )(_____  )       | |   |  ___  ||  __)       | (\\ \\) || |   | || |(_)| ||  __ (  |  __)   |     __)  \n",
    "| | \\_  )| |   | || (            ) |      ) |       | |   | (   ) || (          | | \\   || |   | || |   | || (  \\ \\ | (      | (\\ (     \n",
    "| (___) || (___) || (____/\\/\\____) |/\\____) |       | |   | )   ( || (____/\\    | )  \\  || (___) || )   ( || )___) )| (____/\\| ) \\ \\__  \n",
    "(_______)(_______)(_______/\\_______)\\_______)       )_(   |/     \\|(_______/    |/    )_)(_______)|/     \\||/ \\___/ (_______/|/   \\__/  \n",
    "\"\"\"\n",
    "from random import randint\n",
    "\n",
    "print(logo)\n",
    "\n",
    "EASY_LEVEL_TURNS = 10\n",
    "HARD_LEVEL_TURNS = 5\n",
    "\n",
    "# Function to Check user guess against actual answer\n",
    "def check_answer (user_guess , actual_answer , turns):\n",
    "    \"\"\"\" Check Answer against Guess , Returns the Number of Turns remaining. \"\"\"\n",
    "    if user_guess>actual_answer:\n",
    "        print(\"*****Too High!! *******\")\n",
    "        return turns -1\n",
    "    elif user_guess<actual_answer:\n",
    "        print(\"*****Too Low!!********* \")\n",
    "        return turns -1\n",
    "    else:\n",
    "        print(f\" ****Congratulations !!! <3.*** You got it, the answer was {actual_answer}\")\n",
    "\n",
    "\n",
    "# Function to Set the difficulty\n",
    "def set_difficulty():\n",
    "    level = input(\"Choose a Difficulty Type.Type 'easy' or 'hard' : \")\n",
    "    if level ==\"easy\":\n",
    "        return EASY_LEVEL_TURNS\n",
    "    else:\n",
    "        return HARD_LEVEL_TURNS\n",
    "\n",
    "def game():\n",
    "    # Choose a random number between 1 to 20\n",
    "    print(\"Welcome to the number Gussing Game\")\n",
    "    print(\"I am thinking of Number Between 1 to 20\")\n",
    "    answer = randint(1, 20)\n",
    "    print(f\"Past , the correct answer is {answer}\")\n",
    "\n",
    "    turns = set_difficulty()\n",
    "\n",
    "\n",
    "    guess = 0\n",
    "    while guess != answer:\n",
    "        print(f\"you have {turns} attempts remaining to guess the number\")\n",
    "        # Let the user Guess a Number\n",
    "        guess = int(input(\"Make a guess : \"))\n",
    "        # Track The Number of turns and Reduce by 1 if they get it wrong\n",
    "        turns = check_answer(guess, answer, turns)\n",
    "        if turns ==0:\n",
    "            print(\"You have run out of guesses !! , You loss the Game.\")\n",
    "            return\n",
    "        elif guess !=answer:\n",
    "            print(\"guess Again. Wish You all the Best !!!\")\n",
    "\n",
    "game()\n"
   ]
  },
  {
   "cell_type": "markdown",
   "id": "66a2668c-cd47-41a5-bbe2-b5ca8571eac4",
   "metadata": {},
   "source": [
    "Question 3 : \n",
    "You are tasked with creating a program to calculate the sum of squares of the first n natural numbers, \n",
    "where n is entered by the user.\n",
    "\n",
    "write python code to promt the user to enter a positive integer n .\n",
    "Use a loop to calculate the sum if squares of the first n natural numbers.\n",
    "Define a user-defined function to encapsulate\n",
    "the sum of squares calculate logic and call this function with the user's input' ."
   ]
  },
  {
   "cell_type": "code",
   "execution_count": 81,
   "id": "683121ef-2c9e-422e-9783-624ff0d92f81",
   "metadata": {},
   "outputs": [
    {
     "name": "stdin",
     "output_type": "stream",
     "text": [
      "Enter a positive integer:  45\n"
     ]
    },
    {
     "name": "stdout",
     "output_type": "stream",
     "text": [
      "The sum of squares of the first 45 natural numbers is: 31395\n"
     ]
    }
   ],
   "source": [
    "def sum_of_squares(n):\n",
    "    \"\"\"Calculate the sum of squares of the first n natural numbers.\"\"\"\n",
    "    total = 0\n",
    "    for i in range(1, n + 1):\n",
    "        total += i**2\n",
    "    return total\n",
    "\n",
    "# Prompt the user to enter a positive integer\n",
    "while True:\n",
    "    try:\n",
    "        n = int(input(\"Enter a positive integer: \"))\n",
    "        if n > 0:\n",
    "            break\n",
    "        else:\n",
    "            print(\"Please enter a positive integer.\")\n",
    "    except ValueError:\n",
    "        print(\"That's not an integer! Please enter a valid positive integer.\")\n",
    "\n",
    "# Calculate the sum of squares\n",
    "result = sum_of_squares(n)\n",
    "\n",
    "# Display the result\n",
    "print(f\"The sum of squares of the first {n} natural numbers is: {result}\")"
   ]
  },
  {
   "cell_type": "markdown",
   "id": "02816f6b-7a7c-4e39-8b12-e194f5254ae2",
   "metadata": {},
   "source": [
    "## Very Basic Problem "
   ]
  },
  {
   "cell_type": "code",
   "execution_count": 4,
   "id": "5d8cd181-c228-4988-acc5-ce32c54ee933",
   "metadata": {},
   "outputs": [
    {
     "name": "stdin",
     "output_type": "stream",
     "text": [
      "Hello what is your name hira\n"
     ]
    },
    {
     "name": "stdout",
     "output_type": "stream",
     "text": [
      "Hello hira!\n"
     ]
    }
   ],
   "source": [
    "print(\"Hello \"+ input(\"Hello what is your name\") +\"!\")"
   ]
  },
  {
   "cell_type": "markdown",
   "id": "b7e76246-8615-476b-8ae1-3e521c8d0f63",
   "metadata": {},
   "source": [
    "### Swap Two Number"
   ]
  },
  {
   "cell_type": "code",
   "execution_count": 2,
   "id": "3aee1936-3d37-4b61-a4eb-be8fa7c745ca",
   "metadata": {},
   "outputs": [
    {
     "name": "stdout",
     "output_type": "stream",
     "text": [
      "After Swapping\n",
      "a = 15\n",
      "b = 10\n"
     ]
    }
   ],
   "source": [
    "a = 10 \n",
    "b = 15\n",
    "a, b = b , a\n",
    "print (\"After Swapping\")\n",
    "print(\"a =\",a)\n",
    "print(\"b =\",b)"
   ]
  },
  {
   "cell_type": "markdown",
   "id": "f96596ca-f283-43e4-a00a-1e11c9797de6",
   "metadata": {},
   "source": [
    "### Exponent Function "
   ]
  },
  {
   "cell_type": "code",
   "execution_count": 15,
   "id": "b39bfb02-d552-43ec-bfb3-f822b47c845a",
   "metadata": {},
   "outputs": [
    {
     "name": "stdout",
     "output_type": "stream",
     "text": [
      "The Expoent of 5*5 = 25\n",
      "The Expoent of 5*5*5 = 125\n",
      "The Expoent of 5*5*5*5 = 625\n"
     ]
    }
   ],
   "source": [
    "print(\"The Expoent of 5*5 =\",5**2)\n",
    "print(\"The Expoent of 5*5*5 =\",5**3)\n",
    "print(\"The Expoent of 5*5*5*5 =\",5**4)"
   ]
  },
  {
   "cell_type": "code",
   "execution_count": 3,
   "id": "46aaacfe-893a-4b4d-8819-829be044bf71",
   "metadata": {},
   "outputs": [
    {
     "name": "stdout",
     "output_type": "stream",
     "text": [
      "114.5 is the answer.\n"
     ]
    }
   ],
   "source": [
    "# Given three variables: a = ‘100’, b = 25, and c = ‘10.5’, write a Python program to perform the following operations and print the results: – Convert a to an integer and add it to b. – Convert c to a float and subtract it from the result of the first operation. – Convert the final result to a string and concatenate it with the string ” is the answer.”\n",
    "\n",
    "# Given variables\n",
    "a = '100'\n",
    "b = 25\n",
    "c = '10.5'\n",
    "\n",
    "# Convert `a` to an integer and add it to `b`\n",
    "a_int = int(a)\n",
    "result = a_int + b\n",
    "\n",
    "# Convert `c` to a float and subtract it from the result\n",
    "c_float = float(c)\n",
    "result -= c_float\n",
    "\n",
    "# Convert the final result to a string and concatenate it with the string \" is the answer.\"\n",
    "result_str = str(result) + \" is the answer.\"\n",
    "\n",
    "# Output the result\n",
    "print(result_str)\n"
   ]
  },
  {
   "cell_type": "raw",
   "id": "ad080f5d-4805-44a0-a68e-8de2e67014c9",
   "metadata": {},
   "source": [
    "Question 1 \n",
    "\n",
    "You have a Data containing two records:\"Quantity\" and \"Price per unit\".\n",
    "How would you use arithmetic operators to calculate the total cost for item, also calculate the total Cost ? \n",
    "Product 1, Quantity=5, price per unit=Rs 250.\n",
    "product 2 ,Quantity=25 ,price per unit=Rs 656. \n",
    "product 3 ,Quantity=34 ,price per unit=Rs 274."
   ]
  },
  {
   "cell_type": "code",
   "execution_count": 19,
   "id": "fa5271ad-06fd-4fcd-a82e-12d65f2ed3de",
   "metadata": {},
   "outputs": [
    {
     "name": "stdout",
     "output_type": "stream",
     "text": [
      "For Product 1 the Total Price is = 1250 Rs\n",
      "For Product 2 the Total Price is = 16400 Rs\n",
      "For Product 3 the Total Price is = 9316 Rs\n",
      "In total Price is = 26966 Rs\n"
     ]
    }
   ],
   "source": [
    "#For Product 1:\n",
    "Qunatity1=5\n",
    "price_per_unit=250\n",
    "total_price_product_1=Qunatity1*price_per_unit1\n",
    "print(\"For Product 1 the Total Price is =\",Qunatity1*price_per_unit,\"Rs\")\n",
    "Qunatity2=25\n",
    "price_per_unit2=656\n",
    "total_price_product_2=Qunatity2*price_per_unit2\n",
    "print(\"For Product 2 the Total Price is =\",Qunatity2*price_per_unit2,\"Rs\")\n",
    "Qunatity3=34\n",
    "price_per_unit3=274\n",
    "total_price_product_3=Qunatity3*price_per_unit3\n",
    "print(\"For Product 3 the Total Price is =\",Qunatity3*price_per_unit3,\"Rs\")\n",
    "\n",
    "print (\"In total Price is =\",total_price_product_1+total_price_product_2+total_price_product_3,\"Rs\")"
   ]
  },
  {
   "cell_type": "raw",
   "id": "28344536-28ce-44cc-8dcf-419f8765c37b",
   "metadata": {},
   "source": [
    "Question 2 \n",
    "\n",
    "In a Finance based organization,The task is to calculate the simple interest \n",
    "Given the principle amount,interest rate and time period,\n",
    "The interest rate is 8%, the principal amount is Rs 15,00,000, and the time period is 3 years, calculate the simple interest. Also,the threshold amount is Rs 1,20,000 \n",
    "Please check, if the calculated interest is greater or less than the threshold Amount."
   ]
  },
  {
   "cell_type": "code",
   "execution_count": 20,
   "id": "d4bffb73-6a55-4874-bf80-6a5b67b26e06",
   "metadata": {},
   "outputs": [
    {
     "name": "stdout",
     "output_type": "stream",
     "text": [
      "The Simple Interest Rate is = 360000.0\n",
      "The Threshold amount and Simple Interest are equal = False\n",
      "The Threshold amount is getter than the Simple Interest = False\n",
      "The Threshold amount is less than the Simple Interest = True\n"
     ]
    }
   ],
   "source": [
    "principle_amount=1500000\n",
    "time_period=3\n",
    "interest_rate=8\n",
    "simple_interest=(principle_amount*time_period*interest_rate)/100\n",
    "print(\"The Simple Interest Rate is =\",simple_interest)\n",
    "threshol_amount=120000\n",
    "print(\"The Threshold amount and Simple Interest are equal =\",threshol_amount==simple_interest)\n",
    "print(\"The Threshold amount is getter than the Simple Interest =\",threshol_amount>simple_interest)\n",
    "print(\"The Threshold amount is less than the Simple Interest =\",threshol_amount<simple_interest)"
   ]
  },
  {
   "cell_type": "raw",
   "id": "ceca7174-07f1-4cef-a269-5ce02c6dce2d",
   "metadata": {},
   "source": [
    "Qustion 2: \n",
    "\n",
    "As part of your role in a data-driven project, you need to take input from the user for their age , wight ,and height .However , there's \n",
    "an issue : \n",
    "the user has entered their age as a negetive number .\n",
    "You need to correct the age of the user  and after correcting the age , calculating their Basal Metabolic Rate (BMR) \n",
    "using the Harris-Benedict equaiton for men .\n",
    "Ensure that the final answer of BMR is an integer.\n",
    "\n",
    "Basel Metabolic Rate (BMR) : \n",
    "Formula ( Harries Benedict equaion for men ) : \n",
    "BMR = 88.362 + (13.397 * weight in kg ) + ( 4.799*height  in cm ) - ( 5.677 * age in years) "
   ]
  },
  {
   "cell_type": "code",
   "execution_count": 22,
   "id": "303b914c-8e31-4ee5-bac3-eb03f7eaca55",
   "metadata": {},
   "outputs": [
    {
     "name": "stdin",
     "output_type": "stream",
     "text": [
      "enter the age 27\n",
      "enter the weight 59\n",
      "Enter the Hight 5.5\n"
     ]
    },
    {
     "name": "stdout",
     "output_type": "stream",
     "text": [
      "The Corrent age of user  =  27\n",
      "Print the BMR of the patient is  751\n"
     ]
    }
   ],
   "source": [
    "age=int(input(\"enter the age\"))\n",
    "weight=int(input(\"enter the weight\"))\n",
    "height = float(input(\"Enter the Hight\"))\n",
    "correct_age = abs(age) \n",
    "print(\"The Corrent age of user  = \", correct_age)\n",
    "\n",
    "BMR = \"88.362 + (13.397 * weight ) + ( 4.799*height ) - ( 5.677 * age ) \"\n",
    "bmr = eval (BMR)\n",
    "print (\"Print the BMR of the patient is \",int(bmr))"
   ]
  },
  {
   "cell_type": "raw",
   "id": "2ea94df9-85f5-47fb-9ea6-584f4b4a0912",
   "metadata": {},
   "source": [
    "Question 3 \n",
    "Write a python code for hostel student , ask them to mention thier couruses name and age,\n",
    "for 5 students and calculate thier avg age ."
   ]
  },
  {
   "cell_type": "code",
   "execution_count": 23,
   "id": "7ff465a2-1edc-44b8-83c0-444e2da6edab",
   "metadata": {},
   "outputs": [
    {
     "name": "stdin",
     "output_type": "stream",
     "text": [
      "Enter his age is  27\n",
      "Enter his age is  21\n",
      "Enter his age is  23\n",
      "Enter his age is  34\n",
      "Enter his age is  43\n"
     ]
    },
    {
     "name": "stdout",
     "output_type": "stream",
     "text": [
      "The average age of 5 students is :  29.6\n"
     ]
    }
   ],
   "source": [
    "student1 = int(input(\"Enter his age is \"))\n",
    "student2 = int(input(\"Enter his age is \"))\n",
    "student3 = int(input(\"Enter his age is \"))\n",
    "student4 = int(input(\"Enter his age is \"))\n",
    "student5 = int(input(\"Enter his age is \"))\n",
    "AVG=\"((student1+student2+student3+student4+student5)/5)\"\n",
    "avg = eval(AVG)\n",
    "print(\"The average age of 5 students is : \", float(avg))"
   ]
  },
  {
   "cell_type": "raw",
   "id": "7b382651-8301-4094-97a3-1a7f7ade6b00",
   "metadata": {},
   "source": [
    "Question 4 : \n",
    "\n",
    "In a Game applicaiton,The player's score is stored as a floating-point number,However,For leaderboard display,\n",
    "you need to convert the score to an integer. \n",
    "How would you use the int() function to convert the player's score from floating-point to integer Formate ? \n",
    "please solve this with code, player score =1234.56"
   ]
  },
  {
   "cell_type": "code",
   "execution_count": 24,
   "id": "92c91d3a-17e7-4b10-bd46-ab6dded3b134",
   "metadata": {},
   "outputs": [
    {
     "name": "stdout",
     "output_type": "stream",
     "text": [
      "This 1234.56 now in floating type <class 'float'>\n",
      "1234.56\n",
      "This 1234.56 now converted into integer value <class 'int'>\n",
      "1234\n"
     ]
    }
   ],
   "source": [
    "player_score_float =1234.56\n",
    "print(\"This 1234.56 now in floating type\",(type(player_score_float)))\n",
    "print(player_score_float)\n",
    "# Converting this into intger Type\n",
    "player_score_int=int(player_score_float)\n",
    "print(\"This 1234.56 now converted into integer value\",(type(player_score_int)))\n",
    "print(player_score_int)"
   ]
  },
  {
   "cell_type": "markdown",
   "id": "11824f62-caf8-4cc7-98e5-5e524fafc48c",
   "metadata": {},
   "source": [
    "# String Python"
   ]
  },
  {
   "cell_type": "code",
   "execution_count": 82,
   "id": "0b98fc79-5b12-451f-81d2-ff0b1f4fc866",
   "metadata": {},
   "outputs": [
    {
     "name": "stdout",
     "output_type": "stream",
     "text": [
      "learners\n",
      "<class 'str'>\n",
      "\n",
      "\n",
      "Students\n",
      "<class 'str'>\n",
      "\n",
      "\n",
      "I am Hira \n",
      "this is my first class\n",
      "\n",
      "\n",
      "Python is a high-level, general-purpose programming language. \n",
      "Its design philosophy emphasizes code readability with the use of significant indentation. \n",
      "Python is dynamically typed and garbage-collected. It supports multiple programming paradigms,\n",
      "including structured, object-oriented and functional programming. \n"
     ]
    }
   ],
   "source": [
    "a = 'learners'\n",
    "print (a)\n",
    "print(type(a))\n",
    "\n",
    "print(\"\\n\")\n",
    "\n",
    "b = \"Students\"\n",
    "print(b)\n",
    "print(type(b))\n",
    "\n",
    "print (\"\\n\")\n",
    "\n",
    "str = \"I am Hira \\nthis is my first class\"\n",
    "print(str)\n",
    "\n",
    "print(\"\\n\")\n",
    "\n",
    "# Multiple String\n",
    "s = \"\"\"Python is a high-level, general-purpose programming language. \n",
    "Its design philosophy emphasizes code readability with the use of significant indentation. \n",
    "Python is dynamically typed and garbage-collected. It supports multiple programming paradigms,\n",
    "including structured, object-oriented and functional programming. \"\"\"\n",
    "print(s)"
   ]
  },
  {
   "cell_type": "markdown",
   "id": "3d1dfcaa-baf1-4563-8d79-27518e645d34",
   "metadata": {},
   "source": [
    "### Indexing of String"
   ]
  },
  {
   "cell_type": "code",
   "execution_count": 83,
   "id": "f16b6bd1-0978-4289-aca8-daffffddb887",
   "metadata": {},
   "outputs": [
    {
     "name": "stdout",
     "output_type": "stream",
     "text": [
      "h\n",
      "e\n",
      "l\n",
      "l\n",
      "o\n",
      " \n"
     ]
    }
   ],
   "source": [
    "a =\"hello dear learners\" \n",
    "print(a[0])\n",
    "print(a[1])\n",
    "print(a[2])\n",
    "print(a[3])\n",
    "print(a[4])\n",
    "print(a[5])"
   ]
  },
  {
   "cell_type": "code",
   "execution_count": 84,
   "id": "13aafea7-362c-49d7-9336-0f1e88e750e3",
   "metadata": {},
   "outputs": [
    {
     "name": "stdout",
     "output_type": "stream",
     "text": [
      "s\n",
      "r\n",
      "e\n",
      "n\n",
      "r\n"
     ]
    }
   ],
   "source": [
    "a =\"hello dear learners\" \n",
    "print(a[-1])\n",
    "print(a[-2])\n",
    "print(a[-3])\n",
    "print(a[-4])\n",
    "print(a[-5])"
   ]
  },
  {
   "cell_type": "code",
   "execution_count": 85,
   "id": "50d3e592-193e-414d-9237-9c14b5840c87",
   "metadata": {},
   "outputs": [
    {
     "name": "stdout",
     "output_type": "stream",
     "text": [
      "d l e\n"
     ]
    }
   ],
   "source": [
    "b = \"Data science is the growing field\"\n",
    "print(b[-1], b[-2] , b[-3])"
   ]
  },
  {
   "cell_type": "markdown",
   "id": "82f85c9a-1923-4614-b4d1-1b19d59452a2",
   "metadata": {},
   "source": [
    "# Slicing in Python"
   ]
  },
  {
   "cell_type": "code",
   "execution_count": 86,
   "id": "69a40595-50f5-4839-ac2f-e3eaf6162508",
   "metadata": {},
   "outputs": [
    {
     "name": "stdout",
     "output_type": "stream",
     "text": [
      "i am lea\n"
     ]
    }
   ],
   "source": [
    "a=\"i am learing data Science\"\n",
    "print (a[0:8])"
   ]
  },
  {
   "cell_type": "markdown",
   "id": "db632d0b-3d99-4de6-8bb7-117b9bb67184",
   "metadata": {},
   "source": [
    "### Slicing With jump"
   ]
  },
  {
   "cell_type": "code",
   "execution_count": 87,
   "id": "edf6f057-9105-418c-a840-65fc218631c6",
   "metadata": {},
   "outputs": [
    {
     "name": "stdout",
     "output_type": "stream",
     "text": [
      "ia en\n"
     ]
    }
   ],
   "source": [
    "a= \"i am leaning Data Science\"\n",
    "print (a[0:10:2])"
   ]
  },
  {
   "cell_type": "markdown",
   "id": "29f1a7c8-00e1-4163-b099-8eca043c4d9e",
   "metadata": {},
   "source": [
    "### Negative Slicing regarding Jump"
   ]
  },
  {
   "cell_type": "code",
   "execution_count": 88,
   "id": "f37f5895-da1a-4d5f-8225-8215bbc206ab",
   "metadata": {},
   "outputs": [
    {
     "name": "stdout",
     "output_type": "stream",
     "text": [
      "ing Data Scienc\n"
     ]
    }
   ],
   "source": [
    "a= \"i am leaning Data Science\"\n",
    "print (a[-16:-1])"
   ]
  },
  {
   "cell_type": "markdown",
   "id": "7011f3c6-6881-4c3a-895e-c46d0b2be58d",
   "metadata": {},
   "source": [
    "Question 2 : \n",
    "Write a python funciton that takes a string as input and returns the substring from the 3rd to the 8th character\n",
    "\"Data Science\"\n",
    "\"Hello World, I am Learning Python\"\n",
    "\"All the best\""
   ]
  },
  {
   "cell_type": "code",
   "execution_count": 89,
   "id": "c8aaf65f-9f1b-497b-9a78-cbdf8c3ca575",
   "metadata": {},
   "outputs": [
    {
     "name": "stdout",
     "output_type": "stream",
     "text": [
      "ta Sci\n",
      "llo Wo\n",
      "l the \n"
     ]
    }
   ],
   "source": [
    "def get_substring(input_string):\n",
    "    \"\"\"Returns the substring from the 3rd to the 8th character.\"\"\"\n",
    "    return input_string[2:8]\n",
    "\n",
    "# Test cases\n",
    "print(get_substring(\"Data Science\"))                 # Output: \"ta Sci\"\n",
    "print(get_substring(\"Hello World, I am Learning Python\"))  # Output: \"llo Wo\"\n",
    "print(get_substring(\"All the best\"))                 # Output: \"l the \""
   ]
  },
  {
   "cell_type": "markdown",
   "id": "d2716d8b-dffc-465c-b53a-b0ab21a94b7f",
   "metadata": {},
   "source": [
    "Question 3 :\n",
    "Write a python function that takes a date stirng in the format \"YYYY-MM-DD\"\n",
    "and returns a tuple containing the year , month , and day as integers.\n",
    "\n",
    "Example Input : \"2024-05-28\"\n",
    "Expexted Output : (2021,5,28)"
   ]
  },
  {
   "cell_type": "code",
   "execution_count": 90,
   "id": "9736d312-194f-4004-9c35-7dc9be0db5f0",
   "metadata": {},
   "outputs": [],
   "source": [
    "#we will use the concept of slicing \n",
    "\n",
    "def extract_date_parts(date_string):\n",
    "    year = int(date_string[0:4])\n",
    "    month = int(date_string[5:7])\n",
    "    day = int(date_string[8:])\n",
    "    return (year,month,day)"
   ]
  },
  {
   "cell_type": "markdown",
   "id": "d68ee3a3-c600-4be8-a514-51a6f0719655",
   "metadata": {},
   "source": [
    "## String Concatination "
   ]
  },
  {
   "cell_type": "raw",
   "id": "46dadab8-74f8-4492-ac39-9f102f0c4548",
   "metadata": {},
   "source": [
    "If You want you can perform this like this too :--\n",
    "Code:\n",
    "a1=\"hello\"\n",
    "b1=\"Student\"\n",
    "c1=a1+\" \"+b1\n",
    "print(\"After Contatenate these Two string we Find =\",c1)\n",
    "Output : \n",
    "After Contatenate these Two string we Find = hello Student"
   ]
  },
  {
   "cell_type": "code",
   "execution_count": 16,
   "id": "924a5fd1-e3ce-461d-b5f2-4cd83a619bc9",
   "metadata": {},
   "outputs": [
    {
     "name": "stdin",
     "output_type": "stream",
     "text": [
      "Enter the First string hira kharap\n",
      "Enter the 2nd string ami valo\n"
     ]
    },
    {
     "name": "stdout",
     "output_type": "stream",
     "text": [
      "hira kharap ami valo\n"
     ]
    }
   ],
   "source": [
    "string1 = input(\"Enter the First string\")\n",
    "string2= input(\"Enter the 2nd string\")\n",
    "print(string1+\" \"+string2)"
   ]
  },
  {
   "cell_type": "markdown",
   "id": "9cbfc5dc-ab4a-4952-b03e-15f23be506d4",
   "metadata": {},
   "source": [
    "## String Reverse \n",
    "https://www.youtube.com/watch?v=NCXrRuCthZY"
   ]
  },
  {
   "cell_type": "raw",
   "id": "9cd3489c-6b14-474e-aca3-54f2a6fa28cb",
   "metadata": {},
   "source": [
    "Hira = 3\n",
    "these three are same [:] \n",
    "                    [0:3]\n",
    "                     [::]\n",
    "print = koreb --> Hira"
   ]
  },
  {
   "cell_type": "code",
   "execution_count": 40,
   "id": "f8896e16-0e42-4a8d-bdbc-737bbc752776",
   "metadata": {},
   "outputs": [
    {
     "name": "stdin",
     "output_type": "stream",
     "text": [
      "Enter any Number 20\n"
     ]
    },
    {
     "name": "stdout",
     "output_type": "stream",
     "text": [
      "the reverse string is =  02 \n"
     ]
    }
   ],
   "source": [
    "s = input(\"Enter any Number\")\n",
    "revstr = s[::-1]\n",
    "print(f\"the reverse string is =  {revstr} \")"
   ]
  },
  {
   "cell_type": "markdown",
   "id": "258262cd-5237-478e-a168-8d5e18e64552",
   "metadata": {},
   "source": [
    "## String Palindrom "
   ]
  },
  {
   "cell_type": "code",
   "execution_count": 41,
   "id": "7a873e0b-538d-4b6e-bb24-b3a7f93c7b46",
   "metadata": {},
   "outputs": [
    {
     "name": "stdin",
     "output_type": "stream",
     "text": [
      "enter Any string  hira\n"
     ]
    },
    {
     "name": "stdout",
     "output_type": "stream",
     "text": [
      "Not palindrom\n"
     ]
    }
   ],
   "source": [
    "s = input(\"enter Any string \")\n",
    "revstr = s[::-1]\n",
    "if s==revstr:\n",
    "    print(\"Palindrom\")\n",
    "else:\n",
    "    print(\"Not palindrom\")"
   ]
  },
  {
   "cell_type": "markdown",
   "id": "676b0cd2-7cbd-43a7-8b6a-20a55a1ef5d4",
   "metadata": {},
   "source": [
    "## Lenth Method"
   ]
  },
  {
   "cell_type": "code",
   "execution_count": 91,
   "id": "a80432e4-3b5c-4dff-9693-44865cfd0e82",
   "metadata": {},
   "outputs": [
    {
     "name": "stdout",
     "output_type": "stream",
     "text": [
      "0\n",
      "\n",
      "\n",
      "1\n",
      "\n",
      "\n",
      "9\n",
      "\n",
      "\n",
      "10\n"
     ]
    }
   ],
   "source": [
    "s =\"\"\n",
    "print(len(s))\n",
    "\n",
    "print(\"\\n\")\n",
    "\n",
    "s=\" \"\n",
    "print (len(s))\n",
    "\n",
    "print(\"\\n\")\n",
    "\n",
    "s = \"theiscale\"\n",
    "print(len(s))\n",
    "\n",
    "print(\"\\n\")\n",
    "\n",
    "a = \"the iscale\"\n",
    "print(len(a))"
   ]
  },
  {
   "cell_type": "markdown",
   "id": "0d8e764f-b387-41c7-adb2-efb7356a971a",
   "metadata": {},
   "source": [
    "# Stirng With Special Symbol "
   ]
  },
  {
   "cell_type": "code",
   "execution_count": 92,
   "id": "5fe9819a-8f50-425a-b4eb-666527bf0c6a",
   "metadata": {},
   "outputs": [
    {
     "name": "stdout",
     "output_type": "stream",
     "text": [
      "erfanulkabir@world\n",
      "18\n",
      "\n",
      "\n",
      "hello\n",
      "world\n",
      "11\n",
      "\n",
      "\n",
      "hello\n",
      "World \n",
      "12\n",
      "\n",
      "\n",
      "62\n"
     ]
    }
   ],
   "source": [
    "s = \"erfanulkabir@world\"\n",
    "print(s)\n",
    "print(len(s))\n",
    "\n",
    "print(\"\\n\")\n",
    "\n",
    "s = \"hello\\nworld\"\n",
    "print(s)\n",
    "print(len(s))\n",
    "\n",
    "print(\"\\n\")\n",
    "\n",
    "s=\"\"\"hello\n",
    "World \"\"\"\n",
    "print(s)\n",
    "print(len(s))\n",
    "\n",
    "print (\"\\n\")\n",
    "a=\"Python is a high-level, general-purpose programming language. \"\n",
    "print(len(a))"
   ]
  },
  {
   "cell_type": "markdown",
   "id": "be2d5e35-2c6c-41f7-a838-ec810a5fdbe5",
   "metadata": {},
   "source": [
    "## Modify String "
   ]
  },
  {
   "cell_type": "code",
   "execution_count": 93,
   "id": "32402c8c-05cc-4721-9497-6ceb45939ce8",
   "metadata": {},
   "outputs": [
    {
     "name": "stdout",
     "output_type": "stream",
     "text": [
      "THIS IS THE ISCALE\n",
      "\n",
      "\n",
      "THIS IS THE ISCALE 123\n"
     ]
    }
   ],
   "source": [
    "s = \"This is the iscale\"\n",
    "print(s.upper())\n",
    "\n",
    "print(\"\\n\")\n",
    "\n",
    "s = \"This IS the iscale 123\"\n",
    "print(s.upper())"
   ]
  },
  {
   "cell_type": "markdown",
   "id": "0a33e8fc-686c-4a5b-9c20-580cb611c70c",
   "metadata": {},
   "source": [
    "## Lower String"
   ]
  },
  {
   "cell_type": "code",
   "execution_count": 94,
   "id": "ad79484c-ddfa-4b24-b9d6-d3cf4d4dd491",
   "metadata": {},
   "outputs": [
    {
     "name": "stdout",
     "output_type": "stream",
     "text": [
      "this is the iscale\n"
     ]
    }
   ],
   "source": [
    "k = \"THIS IS THE ISCALE\"\n",
    "print(k.lower())"
   ]
  },
  {
   "cell_type": "markdown",
   "id": "a9e37ebb-3365-4549-a423-26e6169c1277",
   "metadata": {},
   "source": [
    "## Replace Method"
   ]
  },
  {
   "cell_type": "code",
   "execution_count": 95,
   "id": "682fd1ed-6ffd-48b5-bef3-0218a9b312f2",
   "metadata": {},
   "outputs": [
    {
     "name": "stdout",
     "output_type": "stream",
     "text": [
      "Hello Word , i am liearning Data Science\n",
      "\n",
      "\n",
      "I am Chagol chor  , My full name is Not Chagol chor  ,\n",
      "This is my Nick Name Chagol chor  \n"
     ]
    }
   ],
   "source": [
    "text = \"Hello Word , i am liearning python\"\n",
    "rep = text.replace(\"python\", \"Data Science\")\n",
    "print(rep)\n",
    "\n",
    "print(\"\\n\")\n",
    "\n",
    "a = \"\"\"I am Hira , My full name is Not Hira ,\n",
    "This is my Nick Name Hira \"\"\"\n",
    "rep = a.replace(\"Hira\", \"Chagol chor \")\n",
    "print(rep)"
   ]
  },
  {
   "cell_type": "markdown",
   "id": "93d5f64a-e35a-47ce-88fb-1da39f579594",
   "metadata": {},
   "source": [
    "## Index Method"
   ]
  },
  {
   "cell_type": "code",
   "execution_count": 96,
   "id": "c55f3774-0865-4aaf-a700-bd510addc755",
   "metadata": {},
   "outputs": [
    {
     "name": "stdout",
     "output_type": "stream",
     "text": [
      "7\n"
     ]
    }
   ],
   "source": [
    "a = \"I want to Learn \"\n",
    "print(a.index(\"to\"))"
   ]
  },
  {
   "cell_type": "markdown",
   "id": "a898a1af-c0cf-434f-9dfc-798f7a7efaa8",
   "metadata": {},
   "source": [
    "## Find Method "
   ]
  },
  {
   "cell_type": "code",
   "execution_count": 97,
   "id": "aa4a7638-290e-430c-ba69-d86c45eaecca",
   "metadata": {},
   "outputs": [
    {
     "name": "stdout",
     "output_type": "stream",
     "text": [
      "10\n"
     ]
    }
   ],
   "source": [
    "a = \"Python is great\"\n",
    "b = a.find(\"g\")\n",
    "print(b)"
   ]
  },
  {
   "cell_type": "markdown",
   "id": "aef84ba8-2b72-414d-ad0f-5ea124d14ab2",
   "metadata": {},
   "source": [
    "Write a python porgrma that accomplishess the following tasks : \n",
    "\n",
    "1)Concatenate the strings \"hello\" and \"World\"\n",
    "2)Find the lenth of the resulting string form the concotenation.\n",
    "3)Extract the substring obtained in the previous step.\n",
    "4)Reverse the substring obtained in the previous step.\n",
    "5)Convert th reveresed substring to uppercase.\n",
    "6)Replace the letter \"L\" with \"X\" in the revesed and uppercase substring ."
   ]
  },
  {
   "cell_type": "code",
   "execution_count": 98,
   "id": "4556c45e-e81d-45e6-9f45-9ab3c9acc431",
   "metadata": {},
   "outputs": [
    {
     "name": "stdout",
     "output_type": "stream",
     "text": [
      "helloWorld\n",
      "10\n",
      "World\n",
      "dlroW\n",
      "DLROW\n",
      "DLROW\n"
     ]
    }
   ],
   "source": [
    "concotenated_string = \"hello\" + \"World\"\n",
    "lentgh = len(concotenated_string)\n",
    "substring = concotenated_string[5:]\n",
    "reverse = substring [::-1]\n",
    "upper = reverse.upper()\n",
    "modify = upper.replace(\"l\", \"x\")\n",
    "\n",
    "print (concotenated_string)\n",
    "print (lentgh)\n",
    "print (substring)\n",
    "print (reverse)\n",
    "print (upper)\n",
    "print (modify)"
   ]
  },
  {
   "cell_type": "markdown",
   "id": "f3088768-d348-42b2-9fb9-345a6d7da515",
   "metadata": {},
   "source": [
    "## If-elif-else  --> Condtional Statement Problem "
   ]
  },
  {
   "cell_type": "markdown",
   "id": "1af686ec-11d3-4ea2-bd3c-70caf7c627c2",
   "metadata": {},
   "source": [
    "### Largest Number Among Three"
   ]
  },
  {
   "cell_type": "code",
   "execution_count": 4,
   "id": "dc590330-b667-4069-a90c-ef2f0c49afd2",
   "metadata": {},
   "outputs": [
    {
     "name": "stdin",
     "output_type": "stream",
     "text": [
      "Enter the First Number 3\n",
      "Enter the 2nd Number 5\n",
      "Enter the 3rd Number 2\n"
     ]
    },
    {
     "name": "stdout",
     "output_type": "stream",
     "text": [
      "the largest number is 5\n"
     ]
    }
   ],
   "source": [
    "num1 = int(input(\"Enter the First Number\"))\n",
    "num2 = int(input(\"Enter the 2nd Number\"))\n",
    "num3 = int(input(\"Enter the 3rd Number\"))\n",
    "\n",
    "# Initiallly Largest = nnum1\n",
    "largest = num1\n",
    "if num2>largest:\n",
    "    largest =num2\n",
    "if num3>largest:\n",
    "    largest=num3\n",
    "\n",
    "print(f\"the largest number is {largest}\")\n"
   ]
  },
  {
   "cell_type": "markdown",
   "id": "8b73e391-6bb9-467a-bc48-3169863636e1",
   "metadata": {},
   "source": [
    "### Pizza Order Practise"
   ]
  },
  {
   "cell_type": "code",
   "execution_count": 5,
   "id": "3652bf62-a89f-4317-b937-55e850eeafd2",
   "metadata": {},
   "outputs": [
    {
     "name": "stdout",
     "output_type": "stream",
     "text": [
      "Welcoe to Python pizza Deliveries !\n"
     ]
    },
    {
     "name": "stdin",
     "output_type": "stream",
     "text": [
      "What size do you want ? S, M or L !! S\n",
      "Do you want peparoni on your pizza ? Y or N :  Y\n",
      "Do you want Extra chees ? Y or N !! N\n"
     ]
    },
    {
     "name": "stdout",
     "output_type": "stream",
     "text": [
      "Final Bill is :$17.\n"
     ]
    }
   ],
   "source": [
    "print(\"Welcoe to Python pizza Deliveries !\")\n",
    "size = input(\"What size do you want ? S, M or L !!\")\n",
    "Peparoni =input(\"Do you want peparoni on your pizza ? Y or N : \")\n",
    "extra_cheese = input(\"Do you want Extra chees ? Y or N !!\")\n",
    "\n",
    "bill = 0\n",
    "if size ==\"S\":\n",
    "    bill+=15\n",
    "elif size ==\"M\":\n",
    "    bill+=20\n",
    "elif size ==\"L\":\n",
    "    bill +=25\n",
    "else:\n",
    "    print(\"You type the Wrong Input !!\")\n",
    "\n",
    "\n",
    "if Peparoni ==\"Y\":\n",
    "    if size==\"S\":\n",
    "        bill+=2\n",
    "    else:\n",
    "        bill+=3\n",
    "\n",
    "if extra_cheese==\"Y\":\n",
    "    bill+=1\n",
    "\n",
    "print(f\"Final Bill is :${bill}.\")\n"
   ]
  },
  {
   "cell_type": "markdown",
   "id": "5e068928-aa20-4bf8-95ce-e8f68996cb1d",
   "metadata": {},
   "source": [
    "### Rollercuster "
   ]
  },
  {
   "cell_type": "code",
   "execution_count": 9,
   "id": "2f07e408-01b7-445c-838e-9c02b62a385e",
   "metadata": {},
   "outputs": [
    {
     "name": "stdout",
     "output_type": "stream",
     "text": [
      "Welcome to the Roller Coaster!\n"
     ]
    },
    {
     "name": "stdin",
     "output_type": "stream",
     "text": [
      "What is your height in cm?  30\n"
     ]
    },
    {
     "name": "stdout",
     "output_type": "stream",
     "text": [
      "Sorry, you need to be taller to ride. Hope for the best!\n"
     ]
    }
   ],
   "source": [
    "print(\"Welcome to the Roller Coaster!\")\n",
    "height = int(input(\"What is your height in cm? \"))  # Convert input to integer\n",
    "bill = 0\n",
    "\n",
    "if height >= 120:  # Compare integers\n",
    "    print(\"You can ride the roller coaster!\")\n",
    "    age = int(input(\"What is your age? \"))  # Convert input to integer\n",
    "    if age < 12:\n",
    "        bill = 5\n",
    "        print(\"Child tickets are $5.\")\n",
    "    elif age <= 18:\n",
    "        bill = 7\n",
    "        print(\"Teen tickets are $7.\")\n",
    "    elif 45 <= age <= 55:\n",
    "        print(\"Everything is going to be okay! Have a free ride on us!\")\n",
    "    else:\n",
    "        bill = 12\n",
    "        print(\"Adult tickets are $12.\")\n",
    "    \n",
    "    wants_photo = input(\"Do you want a photo taken? Y or N \").strip().upper()  # Normalize input\n",
    "    if wants_photo == \"Y\":\n",
    "        bill += 3\n",
    "    print(f\"Your final bill is ${bill}.\")\n",
    "else:\n",
    "    print(\"Sorry, you need to be taller to ride. Hope for the best!\")\n"
   ]
  },
  {
   "cell_type": "markdown",
   "id": "4923bd69-dd37-4dc3-857a-200cb8597a6a",
   "metadata": {},
   "source": [
    "### Leap Year or Not "
   ]
  },
  {
   "cell_type": "code",
   "execution_count": 5,
   "id": "23be4c57-6c5c-4420-95c0-9cfa34951fe1",
   "metadata": {},
   "outputs": [
    {
     "name": "stdin",
     "output_type": "stream",
     "text": [
      "Enter any Number 2025\n"
     ]
    },
    {
     "name": "stdout",
     "output_type": "stream",
     "text": [
      "This 2025 is not Leap year \n"
     ]
    }
   ],
   "source": [
    "year = int(input(\"Enter any Number\"))\n",
    "\n",
    "if (year%4==0 and year%100!=0) or (year%400==0):\n",
    "    print(f\"This {year} is Leap year \")\n",
    "else:\n",
    "    print(f\"This {year} is not Leap year \")"
   ]
  },
  {
   "cell_type": "markdown",
   "id": "1e8a8e3b-77e7-4ef1-ae9f-70a344e6ddd5",
   "metadata": {},
   "source": [
    "### Grade Classificaiton "
   ]
  },
  {
   "cell_type": "code",
   "execution_count": 6,
   "id": "e2073ff0-87dc-4395-a35a-e4dec18d9fe0",
   "metadata": {},
   "outputs": [
    {
     "name": "stdin",
     "output_type": "stream",
     "text": [
      "provide your Desired Marks  75\n"
     ]
    },
    {
     "name": "stdout",
     "output_type": "stream",
     "text": [
      "The grade is B\n"
     ]
    }
   ],
   "source": [
    "number = float(input(\"provide your Desired Marks \"))\n",
    "if number >=90:\n",
    "    grade=\"A+\"\n",
    "elif number >=80:\n",
    "    grade=\"A\"\n",
    "elif number >=70:\n",
    "    grade=\"B\"\n",
    "else:\n",
    "    grade=\"Fail\"\n",
    "\n",
    "print(f\"The grade is {grade}\")"
   ]
  },
  {
   "cell_type": "markdown",
   "id": "007b915d-dafe-4ac1-981f-b8f716a3e243",
   "metadata": {},
   "source": [
    "Question \n",
    "\n",
    "Write a python program that promts the user to input a city and display the famous monument of that city .\n",
    "Mumbai : Gateway of Inida\n",
    "Kolkata : Victory Memorial \n",
    "Chennai : Marina Beach \n",
    "Bangalore : Botanical Garden \n",
    "Pune : Shaniwar Wada \n",
    "Write a python script to implement the functionality ."
   ]
  },
  {
   "cell_type": "code",
   "execution_count": 47,
   "id": "bd61e0ec-d5c9-49a1-b01d-310fe0ecc35d",
   "metadata": {},
   "outputs": [
    {
     "name": "stdin",
     "output_type": "stream",
     "text": [
      "enter your city  Kolkata\n"
     ]
    },
    {
     "name": "stdout",
     "output_type": "stream",
     "text": [
      "The famous Monoment is Victory Memorial\n"
     ]
    }
   ],
   "source": [
    "a = input(\"enter your city \")\n",
    "if a==\"Mumbai\": \n",
    "    print(\"The famous Monoment is gat way of India \")\n",
    "elif a==\"Kolkata\":\n",
    "    print(\"The famous Monoment is Victory Memorial\")\n",
    "elif a==\"Chennai\":\n",
    "    print(\"The famous Monoment is Marina Beach\")\n",
    "elif a==\"Bangalore\":\n",
    "    print(\"The famous Monoment is Botanical garder\")\n",
    "elif a==\"Pune\":\n",
    "    print(\"The famous Monoment is shaniwar wada\")\n",
    "else : \n",
    "    print(\"No record is Found\")"
   ]
  },
  {
   "cell_type": "markdown",
   "id": "904cb505-1e71-4f2f-b48c-abed3306d2bc",
   "metadata": {},
   "source": [
    "### Vowel or Consunent\n",
    "https://www.youtube.com/watch?v=N1dEdieBHRY&t=257s"
   ]
  },
  {
   "cell_type": "code",
   "execution_count": 7,
   "id": "903f44d1-e732-417d-8e3f-39a3ff5c15e6",
   "metadata": {},
   "outputs": [
    {
     "name": "stdin",
     "output_type": "stream",
     "text": [
      "Enter any Alphabet hira\n"
     ]
    },
    {
     "name": "stdout",
     "output_type": "stream",
     "text": [
      "count vowel 2\n",
      "Count Consunent 2\n"
     ]
    }
   ],
   "source": [
    "variable  = input(\"Enter any Alphabet\")\n",
    "\n",
    "#initialized \n",
    "count_vowels = 0 \n",
    "count_consunent = 0 \n",
    "vowel = 'AEIOUaeiou'\n",
    "for i in variable:\n",
    "    if i in vowel:\n",
    "        count_vowels+=1\n",
    "    else:\n",
    "        count_consunent+=1\n",
    "\n",
    "print('count vowel', count_vowels)\n",
    "print('Count Consunent', count_consunent)\n"
   ]
  },
  {
   "cell_type": "markdown",
   "id": "612321db-bfc9-4488-b1c7-b2590471c74f",
   "metadata": {},
   "source": [
    "### Triangle Type Problem "
   ]
  },
  {
   "cell_type": "code",
   "execution_count": 8,
   "id": "43f870a1-bba1-4775-8c6c-94699f07ab50",
   "metadata": {},
   "outputs": [
    {
     "name": "stdin",
     "output_type": "stream",
     "text": [
      "Enter the first side of the triangle:  5\n",
      "Enter the second side of the triangle:  6\n",
      "Enter the third side of the triangle:  7\n"
     ]
    },
    {
     "name": "stdout",
     "output_type": "stream",
     "text": [
      "The triangle is Scalene.\n"
     ]
    }
   ],
   "source": [
    "# 17. Triangle Type Checker: Write a Python program that takes three sides of a triangle as input and determines whether it forms an equilateral, isosceles, or scalene triangle.\n",
    "\n",
    "# Taking the three sides of the triangle as input from the user\n",
    "side1 = float(input(\"Enter the first side of the triangle: \"))\n",
    "side2 = float(input(\"Enter the second side of the triangle: \"))\n",
    "side3 = float(input(\"Enter the third side of the triangle: \"))\n",
    "\n",
    "# Checking if the sides form a valid triangle\n",
    "if (side1 + side2 > side3) and (side1 + side3 > side2) and (side2 + side3 > side1):\n",
    "    # Determining the type of triangle\n",
    "    if side1 == side2 == side3:\n",
    "        triangle_type = \"Equilateral\"\n",
    "    elif side1 == side2 or side1 == side3 or side2 == side3:\n",
    "        triangle_type = \"Isosceles\"\n",
    "    else:\n",
    "        triangle_type = \"Scalene\"\n",
    "else:\n",
    "    triangle_type = \"Invalid triangle\"\n",
    "\n",
    "# Output the type of triangle\n",
    "print(f\"The triangle is {triangle_type}.\")\n"
   ]
  },
  {
   "cell_type": "markdown",
   "id": "f68b29f8-133d-453b-840f-694dcda488d2",
   "metadata": {},
   "source": [
    "Question 2: \n",
    "\n",
    "You are tasked with developing a python program to manage employee salarees for a company .\n",
    "Your program should calculate the net salary of each employee based on their base salary , \n",
    "duductions , and bonuses . Additionally , employees who have been with the company for more than\n",
    "5 years are eligible for an additional loyalty bonus , 8% of salary .\n",
    "Deductions of tax will be 12%\n",
    "                    \n",
    "write a python script that promts the user to input the following information for each employee: \n",
    "\n",
    "base Salary \n",
    "                                                                 \n",
    "Yeears of Service\n",
    "\n",
    "After Calculating the net salary , \n",
    "The program should print the summary for each employee , including their base salary , deductions , bonuses, \n",
    "loyalty bonus (if applicable) , and net salary ."
   ]
  },
  {
   "cell_type": "code",
   "execution_count": 46,
   "id": "160db2e7-d96a-4c8c-a75d-27487ecbec34",
   "metadata": {},
   "outputs": [
    {
     "name": "stdin",
     "output_type": "stream",
     "text": [
      "Enter your base salary 20000\n",
      "Enter Your years of Service 6\n"
     ]
    },
    {
     "name": "stdout",
     "output_type": "stream",
     "text": [
      "You will get net salary 19200.0\n"
     ]
    }
   ],
   "source": [
    "base_salary = float(input(\"Enter your base salary\"))\n",
    "years_of_service = int(input(\"Enter Your years of Service\"))\n",
    "if years_of_service>5:\n",
    "    total_salary =base_salary + (0.08*base_salary)-(0.12*base_salary)\n",
    "    print(\"You will get net salary\", total_salary)\n",
    "else: \n",
    "    net_salary =base_salary - (0.12*base_salary)\n",
    "    print(\"your net salary is \", net_salary)"
   ]
  },
  {
   "cell_type": "markdown",
   "id": "96971a78-d840-42b6-8ccc-bd8c97e7784f",
   "metadata": {},
   "source": [
    "## For Loop-while loop  --> Loop Problem"
   ]
  },
  {
   "cell_type": "markdown",
   "id": "dab17edd-ce1b-45a0-9dd1-49bda76e065d",
   "metadata": {},
   "source": [
    "Question 1: \n",
    "Implement a python program to generate the multiplicaiton table of a given numbers using a for loop"
   ]
  },
  {
   "cell_type": "code",
   "execution_count": 50,
   "id": "1d5ecf7c-e9a2-46c5-8e01-18c02242b393",
   "metadata": {},
   "outputs": [
    {
     "name": "stdin",
     "output_type": "stream",
     "text": [
      "Enter a number to generate its Multiplicaiton table 5\n"
     ]
    },
    {
     "name": "stdout",
     "output_type": "stream",
     "text": [
      "The Multiplication of =  5\n",
      "5x1 = 5\n",
      "5x2 = 10\n",
      "5x3 = 15\n",
      "5x4 = 20\n",
      "5x5 = 25\n",
      "5x6 = 30\n",
      "5x7 = 35\n",
      "5x8 = 40\n",
      "5x9 = 45\n",
      "5x10 = 50\n"
     ]
    }
   ],
   "source": [
    "number = int(input(\"Enter a number to generate its Multiplicaiton table\"))\n",
    "print (\"The Multiplication of = \",number)\n",
    "\n",
    "for i in range (1,11):\n",
    "    print (f\"{number}x{i} = {number*i}\")"
   ]
  },
  {
   "cell_type": "markdown",
   "id": "8532ea55-4c61-4ced-a67b-007fb4750625",
   "metadata": {},
   "source": [
    "### Odd or Even Number"
   ]
  },
  {
   "cell_type": "code",
   "execution_count": 51,
   "id": "91ee9ba1-83b9-456b-8a45-7a2c149100db",
   "metadata": {},
   "outputs": [
    {
     "name": "stdout",
     "output_type": "stream",
     "text": [
      "The number is even = 0\n",
      "The number is odd = 1\n",
      "The number is even = 2\n",
      "The number is odd = 3\n",
      "The number is even = 4\n",
      "The number is odd = 5\n",
      "The number is even = 6\n",
      "The number is odd = 7\n",
      "The number is even = 8\n",
      "The number is odd = 9\n",
      "The number is even = 10\n"
     ]
    }
   ],
   "source": [
    "for i in range (0,11):\n",
    "    if i%2==0:\n",
    "        print(\"The number is even =\",i)\n",
    "    else:\n",
    "        print(\"The number is odd =\",i)"
   ]
  },
  {
   "cell_type": "markdown",
   "id": "a9c4cd91-d035-478c-ac1b-5cda46153ac6",
   "metadata": {},
   "source": [
    "### Sum of N numbers"
   ]
  },
  {
   "cell_type": "code",
   "execution_count": 9,
   "id": "7f1dcd52-a063-46d2-ac13-66dd2bb62fd6",
   "metadata": {},
   "outputs": [
    {
     "name": "stdin",
     "output_type": "stream",
     "text": [
      "Enter any Number 45\n"
     ]
    },
    {
     "name": "stdout",
     "output_type": "stream",
     "text": [
      "The sum of 45 is 1035\n"
     ]
    }
   ],
   "source": [
    "num = int(input(\"Enter any Number\"))\n",
    "\n",
    "sum =0 \n",
    "\n",
    "for i in range (1, num+1):\n",
    "    sum+=i\n",
    "\n",
    "print (f\"The sum of {num} is {sum}\")\n"
   ]
  },
  {
   "cell_type": "markdown",
   "id": "5697154d-f400-4495-a5c7-4c857e250199",
   "metadata": {},
   "source": [
    "### total number Summation "
   ]
  },
  {
   "cell_type": "code",
   "execution_count": 11,
   "id": "d022db07-90f0-4c12-9601-046e46fc342f",
   "metadata": {},
   "outputs": [
    {
     "name": "stdout",
     "output_type": "stream",
     "text": [
      "1125\n"
     ]
    }
   ],
   "source": [
    "student_scores = [150 , 142, 185, 120 , 171 , 184, 149 , 24 ]\n",
    "total_exam_score = sum(student_scores)\n",
    "sum=0\n",
    "for score in student_scores:\n",
    "    sum+=score\n",
    "print(sum)\n"
   ]
  },
  {
   "cell_type": "markdown",
   "id": "50e443a6-e74f-47fd-8378-6d49e6e47a8a",
   "metadata": {},
   "source": [
    "### Largest Number Among List --> witout build in function"
   ]
  },
  {
   "cell_type": "code",
   "execution_count": 14,
   "id": "d5b5f5af-d06b-4cac-91de-bbaeef338b0f",
   "metadata": {},
   "outputs": [
    {
     "name": "stdout",
     "output_type": "stream",
     "text": [
      "185\n"
     ]
    }
   ],
   "source": [
    "student_scores = [150 , 142, 185, 120 , 171 , 184, 149 , 24 ]\n",
    "max_score =0\n",
    "for score in student_scores:\n",
    "    if score>max_score:\n",
    "        max_score=score\n",
    "print(max_score)"
   ]
  },
  {
   "cell_type": "markdown",
   "id": "8c61a54a-2fa2-4297-a600-330232c0b73f",
   "metadata": {},
   "source": [
    "### Largest Number Among List --> By build in function ==> max"
   ]
  },
  {
   "cell_type": "code",
   "execution_count": 12,
   "id": "24396cad-048a-4214-8cc6-f9fb3f07f23b",
   "metadata": {},
   "outputs": [
    {
     "name": "stdout",
     "output_type": "stream",
     "text": [
      "185\n"
     ]
    }
   ],
   "source": [
    "student_scores = [150 , 142, 185, 120 , 171 , 184, 149 , 24 ]\n",
    "print(max(student_scores))\n"
   ]
  },
  {
   "cell_type": "markdown",
   "id": "b91ca4c4-d19f-42d3-adaa-6a9d24529c76",
   "metadata": {},
   "source": [
    "Question 2 : \n",
    "You are tasked with creating a program to assist shoppers in calculating their total bill at a grocery sotre.\n",
    "The store offers discounts based on the total purchase amount. Your task is to implement a python program that \n",
    "tasks the price of each item purchased and calculates the total bill, including any applicaiton discounts \n",
    "The store offers the following discount rates \n",
    "based on the total purchase amount: \n",
    "\n",
    "->if the total purchase amount is $100 or more, Then the customer receiver a 10% discount .\n",
    "->if the total purchase amount is between $50 and $99.99, Then the customer receives a 5% discount.\n",
    "->if the total purchase amount is less than $50 , no discount is applied.\n",
    "\n",
    "write a python program to promt the user to enter the prices of the item they purchased.\n",
    "use a for loop to itertate through the prices \n",
    "entered and calculate the subtotal .\n",
    "\n",
    "Apply the appropriate discount based on the total purchase amount using if-else statements.\n",
    "finally , print out the subtotal , discount amount (if any), and the total bill after applying the discount."
   ]
  },
  {
   "cell_type": "code",
   "execution_count": 52,
   "id": "743726a4-4b70-49c8-be4f-0970716bbcf4",
   "metadata": {},
   "outputs": [
    {
     "name": "stdin",
     "output_type": "stream",
     "text": [
      "Enter the number of item purchased= 5\n",
      "Enter the price of the item= 10\n",
      "Enter the price of the item= 15\n",
      "Enter the price of the item= 18\n",
      "Enter the price of the item= 20\n",
      "Enter the price of the item= 56\n"
     ]
    },
    {
     "name": "stdout",
     "output_type": "stream",
     "text": [
      "Subtotal  107.1\n"
     ]
    }
   ],
   "source": [
    "num_items = int(input(\"Enter the number of item purchased=\"))\n",
    "total_price = 0\n",
    "\n",
    "for i in range(num_items):\n",
    "    price=float(input(\"Enter the price of the item=\"))\n",
    "    total_price = total_price + price \n",
    "    i=i+1\n",
    "if total_price>=100:\n",
    "    discount =0.1*total_price\n",
    "elif 50<=total_price <100:\n",
    "    discount = 0.5*total_price\n",
    "else:\n",
    "    discount = 0 \n",
    "\n",
    "total_bill = total_price -discount \n",
    "print(\"Subtotal \", total_bill)\n",
    "    "
   ]
  },
  {
   "cell_type": "markdown",
   "id": "7464090d-65d0-4e0f-90e8-242ff72a6300",
   "metadata": {},
   "source": [
    "### Sum of Even Number"
   ]
  },
  {
   "cell_type": "code",
   "execution_count": 13,
   "id": "c09379b1-e6db-4d9a-8d30-9e1d144dd134",
   "metadata": {},
   "outputs": [
    {
     "name": "stdin",
     "output_type": "stream",
     "text": [
      "Enter Any Number 12\n"
     ]
    },
    {
     "name": "stdout",
     "output_type": "stream",
     "text": [
      "The sum of all Even Number between 1 and 12 is : 42\n"
     ]
    }
   ],
   "source": [
    "num = int(input(\"Enter Any Number\"))\n",
    "sum=0 \n",
    "current=2\n",
    "while current<=num:\n",
    "    sum+=current\n",
    "    current +=2\n",
    "print(f\"The sum of all Even Number between 1 and {num} is : {sum}\")"
   ]
  },
  {
   "cell_type": "markdown",
   "id": "455a468e-aea3-4b58-bd09-e9dee7569d27",
   "metadata": {},
   "source": [
    "Qustion 1: \n",
    "Write a python progtam to print all the even numbers between 1 and 50 using a while loop "
   ]
  },
  {
   "cell_type": "code",
   "execution_count": 48,
   "id": "86dcabd0-b3b9-4328-8e79-37d1ee29797e",
   "metadata": {},
   "outputs": [
    {
     "name": "stdout",
     "output_type": "stream",
     "text": [
      "2\n",
      "4\n",
      "6\n",
      "8\n",
      "10\n",
      "12\n",
      "14\n",
      "16\n",
      "18\n",
      "20\n",
      "22\n",
      "24\n",
      "26\n",
      "28\n",
      "30\n",
      "32\n",
      "34\n",
      "36\n",
      "38\n",
      "40\n",
      "42\n",
      "44\n",
      "46\n",
      "48\n"
     ]
    }
   ],
   "source": [
    "count = 1\n",
    "while count<50:\n",
    "    if count%2==0:\n",
    "        print(count)\n",
    "    count=count+1"
   ]
  },
  {
   "cell_type": "markdown",
   "id": "7e3a7c1b-f649-4cf9-b9e8-bc51dcf5a9ec",
   "metadata": {},
   "source": [
    "Quesiton 1: \n",
    "you are taked with validating user input for emial address . \n",
    "Write a python program that promts the user to enter an emial address .\n",
    "Use a while loop to iterate through the input and check if the email address contains and '@' and '.' symbol. \n",
    "If the email address does not meet this criteria , print \"Invalid emial address format. please try again \". \n",
    "Otherwise , Print emial address validation passed "
   ]
  },
  {
   "cell_type": "code",
   "execution_count": 49,
   "id": "99503496-3355-46bd-b4e5-d0115cddd70e",
   "metadata": {},
   "outputs": [
    {
     "name": "stdin",
     "output_type": "stream",
     "text": [
      "Please enter your mail Address erfanulkabirhira132@gmail.com\n"
     ]
    },
    {
     "name": "stdout",
     "output_type": "stream",
     "text": [
      "Emial Address validation passed\n"
     ]
    }
   ],
   "source": [
    "email = input(\"Please enter your mail Address\")\n",
    "#Initilization a flag track validation status\n",
    "valid_email = False\n",
    "\n",
    "#start the loop \n",
    "while not valid_email: \n",
    "    #check if emial contains \"a\" and \".\"\n",
    "    if \"@\"in email and \".\" in email:\n",
    "        print (\"Emial Address validation passed\")\n",
    "        valid_email=True \n",
    "    else:\n",
    "        print(\"Invalid email Address , please try again\")\n",
    "        email=input(\"please enter your Mail address\")"
   ]
  },
  {
   "cell_type": "markdown",
   "id": "83665df1-619c-4f49-9b8b-c9651aa810b0",
   "metadata": {},
   "source": [
    "### Factorial Calculation "
   ]
  },
  {
   "cell_type": "code",
   "execution_count": 10,
   "id": "5d45282b-1a4e-46da-b57f-68601274c6b4",
   "metadata": {},
   "outputs": [
    {
     "name": "stdin",
     "output_type": "stream",
     "text": [
      "Enter Any Number which is Greater than 0 5\n"
     ]
    },
    {
     "name": "stdout",
     "output_type": "stream",
     "text": [
      "The Factorial value of is = 120 \n"
     ]
    }
   ],
   "source": [
    "N = int(input(\"Enter Any Number which is Greater than 0\"))\n",
    "fact = 1 \n",
    "while N > 0:\n",
    "    fact*=N\n",
    "    N-=1\n",
    "\n",
    "print(f\"The Factorial value of is = {fact} \")"
   ]
  },
  {
   "cell_type": "markdown",
   "id": "f51d9d8c-b81b-4928-92e9-c71562b8bbd7",
   "metadata": {},
   "source": [
    "### Count Digit of N Numbers\n",
    "https://www.youtube.com/watch?v=STcQTjhIKkc&t=219s"
   ]
  },
  {
   "cell_type": "code",
   "execution_count": 11,
   "id": "fc77e7ea-6ca3-4b74-83ad-4d1e4feb2483",
   "metadata": {},
   "outputs": [
    {
     "name": "stdin",
     "output_type": "stream",
     "text": [
      "Enter a number to count the digit  334\n"
     ]
    },
    {
     "name": "stdout",
     "output_type": "stream",
     "text": [
      "The Digit of this 0 is 3\n"
     ]
    }
   ],
   "source": [
    "num = int(input(\"Enter a number to count the digit \"))\n",
    "count=0\n",
    "while num !=0:\n",
    "    num//=10\n",
    "    count +=1\n",
    "\n",
    "print(f\"The Digit of this {num} is {count}\")\n",
    "    "
   ]
  },
  {
   "cell_type": "markdown",
   "id": "3fced3d5-008e-4f9d-b552-49b326dda806",
   "metadata": {},
   "source": [
    "### Fibonacci Series\n",
    "https://www.youtube.com/watch?v=Ib1bSQdXBZ0"
   ]
  },
  {
   "cell_type": "code",
   "execution_count": 12,
   "id": "9d0f039b-8c3f-4659-899e-ba60a34f9f31",
   "metadata": {},
   "outputs": [
    {
     "name": "stdin",
     "output_type": "stream",
     "text": [
      "Enter Any Number 10\n"
     ]
    },
    {
     "name": "stdout",
     "output_type": "stream",
     "text": [
      "0 1 1 2 3 5 8 13 21 34 "
     ]
    }
   ],
   "source": [
    "num = int(input(\"Enter Any Number\"))\n",
    "n1 , n2 = 0 , 1\n",
    "sum=0\n",
    "if num<=0:\n",
    "    print(\"Please Enter a Number which is greater Than Zero\")\n",
    "for i in range (0 , num):\n",
    "    print(sum,end=\" \")\n",
    "    n1=n2\n",
    "    n2=sum\n",
    "    sum=n1+n2\n",
    "\n"
   ]
  },
  {
   "cell_type": "markdown",
   "id": "b7c9d4eb-4ddd-48fc-957c-2e0c9ec6fd05",
   "metadata": {},
   "source": [
    "### Prime Number or Not "
   ]
  },
  {
   "cell_type": "code",
   "execution_count": 14,
   "id": "edec7429-5c66-464c-bf93-3ca650dae5a8",
   "metadata": {},
   "outputs": [
    {
     "name": "stdin",
     "output_type": "stream",
     "text": [
      "Enter Any Number 23\n"
     ]
    },
    {
     "name": "stdout",
     "output_type": "stream",
     "text": [
      "Prime Number\n"
     ]
    }
   ],
   "source": [
    "num = int(input(\"Enter Any Number\"))\n",
    "for i in range (2, num):\n",
    "    if num%i==0:\n",
    "        print(\"Not a Prime Number\")\n",
    "        break\n",
    "    else:\n",
    "        print(\"Prime Number\")\n",
    "        break\n",
    "        "
   ]
  },
  {
   "cell_type": "markdown",
   "id": "88e0e395-007e-476d-b3ab-37225971600a",
   "metadata": {},
   "source": [
    "Question 1 \n",
    "You are Developing a program for a math competition where participants need to solve mathematical expressions and provide the result.\n",
    "You want to use python to automate the evaluation process.\n",
    "Here's How you could approach it : \n",
    "\n",
    "1)Take input from the participant to enter a mathematical expression \n",
    "2)Evaluate the expression entered by the participant and obtain the result.\n",
    "3)Display the result to the participant."
   ]
  },
  {
   "cell_type": "code",
   "execution_count": 42,
   "id": "ccb7acde-ba05-4fc2-abbe-f1860f1d5c0f",
   "metadata": {},
   "outputs": [
    {
     "name": "stdin",
     "output_type": "stream",
     "text": [
      "Enter a mathematical expression 25*45+96-52*3/2.4\n"
     ]
    },
    {
     "name": "stdout",
     "output_type": "stream",
     "text": [
      "The result of the expression is  1156.0\n",
      "Thank you for participating in the maths compertition \n"
     ]
    }
   ],
   "source": [
    "expression = input(\"Enter a mathematical expression\")\n",
    "result =eval(expression)\n",
    "print(\"The result of the expression is \", result )\n",
    "print(\"Thank you for participating in the maths compertition \")"
   ]
  },
  {
   "cell_type": "markdown",
   "id": "3cfed79d-2412-498c-baa3-abc49676af89",
   "metadata": {},
   "source": [
    "Question 2 \n",
    "Suppose you are analyzing dataset containing information about house prices in a party.\n",
    "Each record includes details such as the house size \n",
    "(in square feet ) , number of bedrooms , and price . \n",
    "You want to perform various calculations and manipulations on this Dataset using python.\n",
    "Answer the following qustion : \n",
    "\n",
    "1)Ask the user 1 & 2 to enter hosue size , number of rooms they want and , check the data type user has entered\n",
    "2) Calculate the price of house , if per sq feet is Rs 5000 \n",
    "3)Threshold price is 75 lakh Rs, Which user  is  paying the price abbove threshold price ."
   ]
  },
  {
   "cell_type": "code",
   "execution_count": 43,
   "id": "40232c37-07f2-482a-b97d-bb1374a10ef5",
   "metadata": {},
   "outputs": [
    {
     "name": "stdin",
     "output_type": "stream",
     "text": [
      "enter the Size of the hosue 1500\n",
      "Enter the number of bedrooms 4\n",
      "Enter the budget 80000\n",
      "enter the Size of the hosue 2000\n",
      "Enter the number of bedrooms 2\n",
      "Enter the budget 75000\n"
     ]
    },
    {
     "name": "stdout",
     "output_type": "stream",
     "text": [
      "The price of the house for the user1  7500000.0\n",
      "The price of the house for the user2  10000000.0\n",
      "user 1 is paying above thresold  {True}\n",
      "user 2 is paying above thresold  {True}\n"
     ]
    }
   ],
   "source": [
    "house_size_1 = float(input(\"enter the Size of the hosue\"))\n",
    "bedrooms_1 = int(input(\"Enter the number of bedrooms\"))\n",
    "price_1= float(input(\"Enter the budget\"))\n",
    "\n",
    "house_size_2 = float(input(\"enter the Size of the hosue\"))\n",
    "bedrooms_2 = int(input(\"Enter the number of bedrooms\"))\n",
    "price_2= float(input(\"Enter the budget\"))\n",
    "\n",
    "house_price_1= house_size_1*5000\n",
    "print(\"The price of the house for the user1 \", house_price_1)\n",
    "\n",
    "house_price_2= house_size_2*5000\n",
    "print(\"The price of the house for the user2 \", house_price_2)\n",
    "\n",
    "threshold_price = 7500000\n",
    "user1_threshold = house_price_1 >=threshold_price\n",
    "user2_threshold = house_price_2 >=threshold_price\n",
    "print (f\"user 1 is paying above thresold \", {user1_threshold})\n",
    "print (f\"user 2 is paying above thresold \", {user2_threshold})"
   ]
  },
  {
   "cell_type": "raw",
   "id": "efcc73a9-2ac8-4a7b-b74c-a61188ab54c3",
   "metadata": {},
   "source": [
    "Question 3 \n",
    "You are working on a project to analyze stock market data '.\n",
    "Create a variable to store the stock symbol , current price , \n",
    "and Percentage change in Price . Then Calculate the new price after a 10% increase using arithmatic operaitons, \n",
    "Finally , promt the user to enter their budget using the input() function , \n",
    "convert it to a float using the float()  funciton , and compare it with the new price"
   ]
  },
  {
   "cell_type": "code",
   "execution_count": 44,
   "id": "b9109de2-e7c0-47e7-bf1e-b007c6064f0e",
   "metadata": {},
   "outputs": [
    {
     "name": "stdout",
     "output_type": "stream",
     "text": [
      "the new price of the stock is  110.00000000000001\n"
     ]
    },
    {
     "name": "stdin",
     "output_type": "stream",
     "text": [
      "enter Your Budget 500\n"
     ]
    },
    {
     "name": "stdout",
     "output_type": "stream",
     "text": [
      "User budget is greater than new price  True\n"
     ]
    }
   ],
   "source": [
    "stock_symbol = 'xyz'\n",
    "current_price = 100\n",
    "percent_change = 10 \n",
    "new_price = current_price*(1+percent_change/100)\n",
    "print(\"the new price of the stock is \", new_price)\n",
    "user_budget = int(input(\"enter Your Budget\"))\n",
    "a=user_budget >=new_price\n",
    "print(\"User budget is greater than new price \", a)"
   ]
  },
  {
   "cell_type": "markdown",
   "id": "e47e7903-81b1-4c76-885f-36ad32d83fd2",
   "metadata": {},
   "source": [
    "Question 4 \n",
    "You are working on a project to analyze weather data.\n",
    "Create variables to store the current temperature , \n",
    "the minimum temperature recored  , and the maximum temparature recorded .\n",
    "Determine whether the current temperature is within the range of the minimum and maximum temperatures \n",
    "recorded using logical operators "
   ]
  },
  {
   "cell_type": "code",
   "execution_count": 45,
   "id": "c21ae59c-0726-4c6b-ab68-df2460de82a4",
   "metadata": {},
   "outputs": [
    {
     "name": "stdout",
     "output_type": "stream",
     "text": [
      "Current temperature is within the recorded range: True\n"
     ]
    }
   ],
   "source": [
    "# Variables to store the temperatures\n",
    "current_temperature = 25.5  # current temperature in degrees Celsius\n",
    "min_temperature_recorded = 20.0  # minimum temperature recorded in degrees Celsius\n",
    "max_temperature_recorded = 30.0  # maximum temperature recorded in degrees Celsius\n",
    "\n",
    "# Check if the current temperature is within the range\n",
    "is_within_range = min_temperature_recorded <= current_temperature <= max_temperature_recorded\n",
    "\n",
    "# Output the result\n",
    "print(\"Current temperature is within the recorded range:\", is_within_range)"
   ]
  },
  {
   "cell_type": "markdown",
   "id": "ce8e9186-f0ec-4c0d-acb4-b7c17f9a1bc1",
   "metadata": {},
   "source": [
    "## Break Statement"
   ]
  },
  {
   "cell_type": "code",
   "execution_count": 53,
   "id": "eef43005-38e2-4303-8736-b4274e4389f2",
   "metadata": {},
   "outputs": [
    {
     "name": "stdout",
     "output_type": "stream",
     "text": [
      "0\n",
      "1\n",
      "2\n"
     ]
    }
   ],
   "source": [
    "for i in range(5):\n",
    "    if i ==3:\n",
    "        break \n",
    "    print(i)"
   ]
  },
  {
   "cell_type": "markdown",
   "id": "2baade4c-c217-498a-80c2-35ee61ebeab5",
   "metadata": {},
   "source": [
    "## Continue Statement "
   ]
  },
  {
   "cell_type": "code",
   "execution_count": 54,
   "id": "ac2c9d56-1b5a-43fc-b9c8-e4f31eaba1e4",
   "metadata": {},
   "outputs": [
    {
     "name": "stdout",
     "output_type": "stream",
     "text": [
      "0\n",
      "1\n",
      "2\n",
      "4\n",
      "I am Learning python\n"
     ]
    }
   ],
   "source": [
    "for i in range(5):\n",
    "    if i==3:\n",
    "        continue\n",
    "    print(i)\n",
    "print(\"I am Learning python\")"
   ]
  },
  {
   "cell_type": "markdown",
   "id": "f8e4c90b-fb50-487e-a3a2-a871821e0729",
   "metadata": {},
   "source": [
    "## List Problem"
   ]
  },
  {
   "cell_type": "raw",
   "id": "e18a5a0d-2c89-412e-b17f-75e6f203188e",
   "metadata": {},
   "source": [
    "Question 5 : \n",
    "In a customer relationship management (CRM) system for a retail company, you have a database containing customer reocords.\n",
    "How would you use the len() function to find the total number of Customer in the database, allowing the company to track its customer base? \n",
    "\n",
    "Customer_databse = [\n",
    "                 (1 , 'John Doe' , 'John@example.com'),\n",
    "                 (1 , 'Hira' , 'erfanulkabirhira132@gmail.com'),\n",
    "                (1 , 'Jira' , 'Jira@example.com'),\n",
    "                ]"
   ]
  },
  {
   "cell_type": "code",
   "execution_count": 27,
   "id": "40ceae19-216c-49f1-a4da-00d4d7f163b6",
   "metadata": {},
   "outputs": [
    {
     "name": "stdout",
     "output_type": "stream",
     "text": [
      "The total number of customer in the database is  3\n"
     ]
    }
   ],
   "source": [
    "Customer_database = [ \n",
    "    (1 , 'John Doe' , 'John@example.com'),\n",
    "    (1 , 'Hira' , 'erfanulkabirhira132@gmail.com'),\n",
    "    (1 , 'Jira' , 'Jira@example.com'),\n",
    "]\n",
    "print (\"The total number of customer in the database is \", len(Customer_database))"
   ]
  },
  {
   "cell_type": "markdown",
   "id": "d9d30f64-7915-4a3c-8103-02ee17066a62",
   "metadata": {},
   "source": [
    "### List Comparison \n",
    "https://www.youtube.com/watch?v=OYnZETHs-4M"
   ]
  },
  {
   "cell_type": "code",
   "execution_count": 28,
   "id": "a26fe3fe-8c12-4683-9444-3d36dfda391b",
   "metadata": {},
   "outputs": [
    {
     "name": "stdout",
     "output_type": "stream",
     "text": [
      "[1, 2, 3, 4, 5, 6, 7, 8, 9, 10, 11, 12, 13, 14, 15, 16, 17, 18, 19, 20, 21, 22, 23, 24, 25, 26, 27, 28, 29, 30, 31, 32, 33, 34, 35, 36, 37, 38, 39, 40, 41, 42, 43, 44, 45, 46, 47, 48, 49, 50, 51, 52, 53, 54, 55, 56, 57, 58, 59, 60, 61, 62, 63, 64, 65, 66, 67, 68, 69, 70, 71, 72, 73, 74, 75, 76, 77, 78, 79, 80, 81, 82, 83, 84, 85, 86, 87, 88, 89, 90, 91, 92, 93, 94, 95, 96, 97, 98, 99, 100]\n",
      "\n",
      "[1, 2, 3, 4, 5, 6, 7, 8, 9, 10, 11, 12, 13, 14, 15, 16, 17, 18, 19, 20, 21, 22, 23, 24, 25, 26, 27, 28, 29, 30, 31, 32, 33, 34, 35, 36, 37, 38, 39, 40, 41, 42, 43, 44, 45, 46, 47, 48, 49, 50, 51, 52, 53, 54, 55, 56, 57, 58, 59, 60, 61, 62, 63, 64, 65, 66, 67, 68, 69, 70, 71, 72, 73, 74, 75, 76, 77, 78, 79, 80, 81, 82, 83, 84, 85, 86, 87, 88, 89, 90, 91, 92, 93, 94, 95, 96, 97, 98, 99, 100]\n",
      " \n",
      "[2, 4, 6, 8, 10, 12, 14, 16, 18, 20, 22, 24, 26, 28, 30, 32, 34, 36, 38, 40, 42, 44, 46, 48, 50, 52, 54, 56, 58, 60, 62, 64, 66, 68, 70, 72, 74, 76, 78, 80, 82, 84, 86, 88, 90, 92, 94, 96, 98, 100]\n"
     ]
    }
   ],
   "source": [
    "#without List Comprehension \n",
    "\n",
    "l=[]\n",
    "for i in range (1, 101):\n",
    "    l.append(i)\n",
    "print(l)\n",
    "\n",
    "print (\"\")\n",
    "\n",
    "# With Compression \n",
    "n=[m for m in range (1, 101)]\n",
    "print(n)\n",
    "\n",
    "print(\" \")\n",
    "#with list comprehension for even Number \n",
    "n=[m for m in range (1, 101) if m%2==0]\n",
    "print(n)"
   ]
  },
  {
   "cell_type": "markdown",
   "id": "b61e64c2-3069-43b4-9f59-72c09b6c6453",
   "metadata": {},
   "source": [
    "### create list and print new List with square of elementsabs\n",
    "https://www.youtube.com/watch?v=m751AQKDB9M"
   ]
  },
  {
   "cell_type": "code",
   "execution_count": 29,
   "id": "91777d0e-5c8b-47a7-8f55-e6b80944a1d2",
   "metadata": {},
   "outputs": [
    {
     "name": "stdout",
     "output_type": "stream",
     "text": [
      "Original list : \n",
      "[1, 2, 3, 4, 5, 6, 7, 8, 9, 10, 11, 12, 13, 14, 15, 16, 17, 18, 19]\n",
      "[1, 4, 9, 16, 25, 36, 49, 64, 81, 100, 121, 144, 169, 196, 225, 256, 289, 324, 361]\n"
     ]
    }
   ],
   "source": [
    "l=[]\n",
    "for i in range (1, 20):\n",
    "    l.append(i)\n",
    "\n",
    "print (\"Original list : \")\n",
    "print(l)\n",
    "newlist =[i*i for i in l ]\n",
    "print(newlist)"
   ]
  },
  {
   "cell_type": "markdown",
   "id": "b59d37b3-70ca-4bf8-b6fb-ab73696068d3",
   "metadata": {},
   "source": [
    "### List avg"
   ]
  },
  {
   "cell_type": "code",
   "execution_count": 32,
   "id": "1c119e7e-f770-4910-870a-92ce30646aca",
   "metadata": {},
   "outputs": [
    {
     "ename": "TypeError",
     "evalue": "'int' object is not callable",
     "output_type": "error",
     "traceback": [
      "\u001b[1;31m---------------------------------------------------------------------------\u001b[0m",
      "\u001b[1;31mTypeError\u001b[0m                                 Traceback (most recent call last)",
      "Cell \u001b[1;32mIn[32], line 5\u001b[0m\n\u001b[0;32m      2\u001b[0m numbers \u001b[38;5;241m=\u001b[39m [\u001b[38;5;241m10\u001b[39m, \u001b[38;5;241m20\u001b[39m, \u001b[38;5;241m30\u001b[39m, \u001b[38;5;241m40\u001b[39m, \u001b[38;5;241m50\u001b[39m]\n\u001b[0;32m      4\u001b[0m \u001b[38;5;66;03m# Calculate the sum of elements\u001b[39;00m\n\u001b[1;32m----> 5\u001b[0m total_sum \u001b[38;5;241m=\u001b[39m \u001b[38;5;28;43msum\u001b[39;49m\u001b[43m(\u001b[49m\u001b[43mnumbers\u001b[49m\u001b[43m)\u001b[49m\n\u001b[0;32m      7\u001b[0m \u001b[38;5;66;03m# Calculate the number of elements\u001b[39;00m\n\u001b[0;32m      8\u001b[0m num_elements \u001b[38;5;241m=\u001b[39m \u001b[38;5;28mlen\u001b[39m(numbers)\n",
      "\u001b[1;31mTypeError\u001b[0m: 'int' object is not callable"
     ]
    }
   ],
   "source": [
    "# Sample list of integers\n",
    "numbers = [10, 20, 30, 40, 50]\n",
    "\n",
    "# Calculate the sum of elements\n",
    "total_sum = sum(numbers)\n",
    "\n",
    "# Calculate the number of elements\n",
    "num_elements = len(numbers)\n",
    "\n",
    "# Calculate the average\n",
    "average = total_sum / num_elements\n",
    "\n",
    "# Print the result\n",
    "print(f\"The average of the list is: {average}\")"
   ]
  },
  {
   "cell_type": "markdown",
   "id": "1de2d2e2-9193-44a0-84b9-cafdcf8ec695",
   "metadata": {},
   "source": [
    "### Max and Min Number"
   ]
  },
  {
   "cell_type": "code",
   "execution_count": 33,
   "id": "1bf5b6db-c2ce-423b-8e9f-1438a657763d",
   "metadata": {},
   "outputs": [
    {
     "name": "stdout",
     "output_type": "stream",
     "text": [
      "The maximum value in the list is: 50\n",
      "The minimum value in the list is: 10\n"
     ]
    }
   ],
   "source": [
    "# Sample list of integers\n",
    "numbers = [10, 20, 30, 40, 50]\n",
    "\n",
    "# Find the maximum and minimum values\n",
    "max_value = max(numbers)\n",
    "min_value = min(numbers)\n",
    "\n",
    "# Print the results\n",
    "print(f\"The maximum value in the list is: {max_value}\")\n",
    "print(f\"The minimum value in the list is: {min_value}\")\n"
   ]
  },
  {
   "cell_type": "markdown",
   "id": "cd3f12a9-e529-4be5-9a5e-34710f67d729",
   "metadata": {},
   "source": [
    "### List Sorting "
   ]
  },
  {
   "cell_type": "code",
   "execution_count": 34,
   "id": "ff0a4739-f6a3-47a6-a254-110675f044a7",
   "metadata": {},
   "outputs": [
    {
     "name": "stdout",
     "output_type": "stream",
     "text": [
      "The sorted list is: [10, 20, 30, 40, 50]\n"
     ]
    }
   ],
   "source": [
    "# Sample list of integers\n",
    "numbers = [50, 20, 40, 10, 30]\n",
    "\n",
    "# Sorting the list in ascending order\n",
    "numbers.sort()\n",
    "\n",
    "# Print the result\n",
    "print(f\"The sorted list is: {numbers}\")\n"
   ]
  },
  {
   "cell_type": "markdown",
   "id": "fb4117f0-e30b-4f54-872b-05052374db9e",
   "metadata": {},
   "source": [
    "### List Filtering"
   ]
  },
  {
   "cell_type": "code",
   "execution_count": 35,
   "id": "e9706a9e-0775-4268-8490-5a95d8f6ce75",
   "metadata": {},
   "outputs": [
    {
     "name": "stdout",
     "output_type": "stream",
     "text": [
      "The original list: [1, 2, 3, 4, 5, 6, 7, 8, 9, 10]\n",
      "The list of even numbers: [2, 4, 6, 8, 10]\n"
     ]
    }
   ],
   "source": [
    "# Sample list of integers\n",
    "numbers = [1, 2, 3, 4, 5, 6, 7, 8, 9, 10]\n",
    "\n",
    "# Using list comprehension to filter even numbers\n",
    "even_numbers = [num for num in numbers if num % 2 == 0]\n",
    "\n",
    "# Print the result\n",
    "print(f\"The original list: {numbers}\")\n",
    "print(f\"The list of even numbers: {even_numbers}\")\n"
   ]
  },
  {
   "cell_type": "markdown",
   "id": "1b0fc040-e619-47ae-a44a-7c8d48d990c9",
   "metadata": {},
   "source": [
    "### list reverse"
   ]
  },
  {
   "cell_type": "code",
   "execution_count": 36,
   "id": "68324de9-3715-4002-9adc-232398573204",
   "metadata": {},
   "outputs": [
    {
     "name": "stdout",
     "output_type": "stream",
     "text": [
      "The original list: [1, 2, 3, 4, 5]\n",
      "The reversed list: [5, 4, 3, 2, 1]\n"
     ]
    }
   ],
   "source": [
    "# Sample list of integers\n",
    "numbers = [1, 2, 3, 4, 5]\n",
    "\n",
    "# Initialize an empty list to store the reversed list\n",
    "reversed_list = []\n",
    "\n",
    "# Reverse the list manually\n",
    "for i in range(len(numbers) - 1, -1, -1):  # Start from the last index to the first\n",
    "    reversed_list.append(numbers[i])\n",
    "\n",
    "# Print the result\n",
    "print(f\"The original list: {numbers}\")\n",
    "print(f\"The reversed list: {reversed_list}\")\n"
   ]
  },
  {
   "cell_type": "markdown",
   "id": "212fecaf-7ad4-4000-984b-0628bf267f82",
   "metadata": {},
   "source": [
    "### List Manipulation"
   ]
  },
  {
   "cell_type": "code",
   "execution_count": 37,
   "id": "915b4e63-b86d-4171-9403-12e9fa736b09",
   "metadata": {},
   "outputs": [
    {
     "name": "stdout",
     "output_type": "stream",
     "text": [
      "List 1: [1, 2, 3, 4, 5]\n",
      "List 2: [4, 5, 6, 7, 8]\n",
      "Common elements: [4, 5]\n"
     ]
    }
   ],
   "source": [
    "# Sample lists of integers\n",
    "list1 = [1, 2, 3, 4, 5]\n",
    "list2 = [4, 5, 6, 7, 8]\n",
    "\n",
    "# Using list comprehension to find common elements\n",
    "common_elements = [element for element in list1 if element in list2]\n",
    "\n",
    "# Print the result\n",
    "print(f\"List 1: {list1}\")\n",
    "print(f\"List 2: {list2}\")\n",
    "print(f\"Common elements: {common_elements}\")"
   ]
  },
  {
   "cell_type": "markdown",
   "id": "2b6743c4-659f-495b-b86d-3311ade9e61c",
   "metadata": {},
   "source": [
    "### List Element Count "
   ]
  },
  {
   "cell_type": "code",
   "execution_count": 38,
   "id": "cdd8519d-c5fc-406a-b375-3373f6736074",
   "metadata": {},
   "outputs": [
    {
     "name": "stdout",
     "output_type": "stream",
     "text": [
      "The element 2 occurs 4 times in the list.\n"
     ]
    }
   ],
   "source": [
    "# Sample list of integers\n",
    "numbers = [1, 2, 3, 2, 4, 2, 5, 2]\n",
    "\n",
    "# Element to count\n",
    "target_element = 2\n",
    "\n",
    "# Count occurrences manually\n",
    "count = 0\n",
    "for num in numbers:\n",
    "    if num == target_element:\n",
    "        count += 1\n",
    "\n",
    "# Print the result\n",
    "print(f\"The element {target_element} occurs {count} times in the list.\")\n"
   ]
  },
  {
   "cell_type": "markdown",
   "id": "e3ede178-ccfc-4012-9e19-5df367e955ef",
   "metadata": {},
   "source": [
    "### List Duplicates Removal"
   ]
  },
  {
   "cell_type": "code",
   "execution_count": 39,
   "id": "7a5f92a3-54de-493f-b54c-0708672dadd9",
   "metadata": {},
   "outputs": [
    {
     "name": "stdout",
     "output_type": "stream",
     "text": [
      "The original list: [1, 2, 2, 3, 4, 4, 5, 3]\n",
      "The list without duplicates: [1, 2, 3, 4, 5]\n"
     ]
    }
   ],
   "source": [
    "# Sample list of integers with duplicates\n",
    "numbers = [1, 2, 2, 3, 4, 4, 5, 3]\n",
    "\n",
    "# Initialize an empty list to store unique elements\n",
    "unique_numbers = []\n",
    "\n",
    "# Loop through the original list\n",
    "for num in numbers:\n",
    "    if num not in unique_numbers:  # Check if the element is already in the unique list\n",
    "        unique_numbers.append(num)\n",
    "\n",
    "# Print the result\n",
    "print(f\"The original list: {numbers}\")\n",
    "print(f\"The list without duplicates: {unique_numbers}\")\n"
   ]
  },
  {
   "cell_type": "markdown",
   "id": "48b3597e-9709-4d6b-9d56-6b958213a887",
   "metadata": {},
   "source": [
    "### Creating a list -> Creating a table with the help list"
   ]
  },
  {
   "cell_type": "code",
   "execution_count": 55,
   "id": "e159a01a-2863-40cb-903a-7708a7d67882",
   "metadata": {},
   "outputs": [],
   "source": [
    "# Creating a list only\n",
    "car_data = [\n",
    "    [\"Jeep Compass 2.0 Longitude Option BSIV\",\"10.03 Lakh\",\"86,226 kms\",\"Diesel\",\"Manual\",\"1st Owner\",\"January 15,2017\",\"1956 cc\",\"5 Seats\"],\n",
    "    [\"Renault Duster RXZ Turbo CVT\",\" \",\" \",\"Petrol\",\"Automatic\",\"1st Owner\",\"January 15,2018\",\"1330 cc\", \"5 Seats\"] \n",
    "]"
   ]
  },
  {
   "cell_type": "code",
   "execution_count": 56,
   "id": "15a42af6-ef8a-4029-b166-777b35f83c09",
   "metadata": {},
   "outputs": [
    {
     "data": {
      "text/plain": [
       "[['Jeep Compass 2.0 Longitude Option BSIV',\n",
       "  '10.03 Lakh',\n",
       "  '86,226 kms',\n",
       "  'Diesel',\n",
       "  'Manual',\n",
       "  '1st Owner',\n",
       "  'January 15,2017',\n",
       "  '1956 cc',\n",
       "  '5 Seats'],\n",
       " ['Renault Duster RXZ Turbo CVT',\n",
       "  ' ',\n",
       "  ' ',\n",
       "  'Petrol',\n",
       "  'Automatic',\n",
       "  '1st Owner',\n",
       "  'January 15,2018',\n",
       "  '1330 cc',\n",
       "  '5 Seats']]"
      ]
     },
     "execution_count": 56,
     "metadata": {},
     "output_type": "execute_result"
    }
   ],
   "source": [
    "car_data"
   ]
  },
  {
   "cell_type": "code",
   "execution_count": 57,
   "id": "5fd47a99-a5f5-4051-8c6d-3b8849e9358f",
   "metadata": {},
   "outputs": [],
   "source": [
    "# For Showing this as a datafram i have to import Pandas  : ->\n",
    "import pandas as pd"
   ]
  },
  {
   "cell_type": "code",
   "execution_count": 58,
   "id": "53736d58-7650-4e9a-8974-2dde4cf38641",
   "metadata": {},
   "outputs": [],
   "source": [
    "#let's put this car_data set into a Data Frame\n",
    "df = pd.DataFrame(car_data)"
   ]
  },
  {
   "cell_type": "code",
   "execution_count": 59,
   "id": "33b698f0-1824-4b88-ae9d-2d21c644be07",
   "metadata": {},
   "outputs": [
    {
     "data": {
      "text/html": [
       "<div>\n",
       "<style scoped>\n",
       "    .dataframe tbody tr th:only-of-type {\n",
       "        vertical-align: middle;\n",
       "    }\n",
       "\n",
       "    .dataframe tbody tr th {\n",
       "        vertical-align: top;\n",
       "    }\n",
       "\n",
       "    .dataframe thead th {\n",
       "        text-align: right;\n",
       "    }\n",
       "</style>\n",
       "<table border=\"1\" class=\"dataframe\">\n",
       "  <thead>\n",
       "    <tr style=\"text-align: right;\">\n",
       "      <th></th>\n",
       "      <th>0</th>\n",
       "      <th>1</th>\n",
       "      <th>2</th>\n",
       "      <th>3</th>\n",
       "      <th>4</th>\n",
       "      <th>5</th>\n",
       "      <th>6</th>\n",
       "      <th>7</th>\n",
       "      <th>8</th>\n",
       "    </tr>\n",
       "  </thead>\n",
       "  <tbody>\n",
       "    <tr>\n",
       "      <th>0</th>\n",
       "      <td>Jeep Compass 2.0 Longitude Option BSIV</td>\n",
       "      <td>10.03 Lakh</td>\n",
       "      <td>86,226 kms</td>\n",
       "      <td>Diesel</td>\n",
       "      <td>Manual</td>\n",
       "      <td>1st Owner</td>\n",
       "      <td>January 15,2017</td>\n",
       "      <td>1956 cc</td>\n",
       "      <td>5 Seats</td>\n",
       "    </tr>\n",
       "    <tr>\n",
       "      <th>1</th>\n",
       "      <td>Renault Duster RXZ Turbo CVT</td>\n",
       "      <td></td>\n",
       "      <td></td>\n",
       "      <td>Petrol</td>\n",
       "      <td>Automatic</td>\n",
       "      <td>1st Owner</td>\n",
       "      <td>January 15,2018</td>\n",
       "      <td>1330 cc</td>\n",
       "      <td>5 Seats</td>\n",
       "    </tr>\n",
       "  </tbody>\n",
       "</table>\n",
       "</div>"
      ],
      "text/plain": [
       "                                        0           1           2       3  \\\n",
       "0  Jeep Compass 2.0 Longitude Option BSIV  10.03 Lakh  86,226 kms  Diesel   \n",
       "1            Renault Duster RXZ Turbo CVT                          Petrol   \n",
       "\n",
       "           4          5                6        7        8  \n",
       "0     Manual  1st Owner  January 15,2017  1956 cc  5 Seats  \n",
       "1  Automatic  1st Owner  January 15,2018  1330 cc  5 Seats  "
      ]
     },
     "execution_count": 59,
     "metadata": {},
     "output_type": "execute_result"
    }
   ],
   "source": [
    "df"
   ]
  },
  {
   "cell_type": "code",
   "execution_count": 60,
   "id": "5244d870-9791-40c5-ae64-200e951d8620",
   "metadata": {},
   "outputs": [],
   "source": [
    "# For setting the Column Name :->\n",
    "df = pd.DataFrame(car_data, columns=['car_name', 'car_prices_in_rupee', 'kms_driven', 'fuel_type','transmission','ownership','manufacture',\n",
    "                                     'engine','Seats'])"
   ]
  },
  {
   "cell_type": "code",
   "execution_count": 61,
   "id": "cdf037b8-2f96-4087-8985-3fb28a6a724f",
   "metadata": {},
   "outputs": [
    {
     "data": {
      "text/html": [
       "<div>\n",
       "<style scoped>\n",
       "    .dataframe tbody tr th:only-of-type {\n",
       "        vertical-align: middle;\n",
       "    }\n",
       "\n",
       "    .dataframe tbody tr th {\n",
       "        vertical-align: top;\n",
       "    }\n",
       "\n",
       "    .dataframe thead th {\n",
       "        text-align: right;\n",
       "    }\n",
       "</style>\n",
       "<table border=\"1\" class=\"dataframe\">\n",
       "  <thead>\n",
       "    <tr style=\"text-align: right;\">\n",
       "      <th></th>\n",
       "      <th>car_name</th>\n",
       "      <th>car_prices_in_rupee</th>\n",
       "      <th>kms_driven</th>\n",
       "      <th>fuel_type</th>\n",
       "      <th>transmission</th>\n",
       "      <th>ownership</th>\n",
       "      <th>manufacture</th>\n",
       "      <th>engine</th>\n",
       "      <th>Seats</th>\n",
       "    </tr>\n",
       "  </thead>\n",
       "  <tbody>\n",
       "    <tr>\n",
       "      <th>0</th>\n",
       "      <td>Jeep Compass 2.0 Longitude Option BSIV</td>\n",
       "      <td>10.03 Lakh</td>\n",
       "      <td>86,226 kms</td>\n",
       "      <td>Diesel</td>\n",
       "      <td>Manual</td>\n",
       "      <td>1st Owner</td>\n",
       "      <td>January 15,2017</td>\n",
       "      <td>1956 cc</td>\n",
       "      <td>5 Seats</td>\n",
       "    </tr>\n",
       "    <tr>\n",
       "      <th>1</th>\n",
       "      <td>Renault Duster RXZ Turbo CVT</td>\n",
       "      <td></td>\n",
       "      <td></td>\n",
       "      <td>Petrol</td>\n",
       "      <td>Automatic</td>\n",
       "      <td>1st Owner</td>\n",
       "      <td>January 15,2018</td>\n",
       "      <td>1330 cc</td>\n",
       "      <td>5 Seats</td>\n",
       "    </tr>\n",
       "  </tbody>\n",
       "</table>\n",
       "</div>"
      ],
      "text/plain": [
       "                                 car_name car_prices_in_rupee  kms_driven  \\\n",
       "0  Jeep Compass 2.0 Longitude Option BSIV          10.03 Lakh  86,226 kms   \n",
       "1            Renault Duster RXZ Turbo CVT                                   \n",
       "\n",
       "  fuel_type transmission  ownership      manufacture   engine    Seats  \n",
       "0    Diesel       Manual  1st Owner  January 15,2017  1956 cc  5 Seats  \n",
       "1    Petrol    Automatic  1st Owner  January 15,2018  1330 cc  5 Seats  "
      ]
     },
     "execution_count": 61,
     "metadata": {},
     "output_type": "execute_result"
    }
   ],
   "source": [
    "df"
   ]
  },
  {
   "cell_type": "markdown",
   "id": "f2063cf7-a6bd-498d-a59d-ac841574be3a",
   "metadata": {},
   "source": [
    "\n",
    "## Creating a Dictionary -> Creating table with the help of Dictionary\n",
    "### With the Dictionary we can create this table so so easily\n",
    "\n"
   ]
  },
  {
   "cell_type": "code",
   "execution_count": 62,
   "id": "cc2adb41-9ab8-4154-b63c-c174683a6196",
   "metadata": {},
   "outputs": [],
   "source": [
    "# Creating a Dictionary only\n",
    "data = {\n",
    "    \"car_name\":[\"Jeep Compass 2.0 Longitude Option BSIV\",\n",
    "        \"Renault Duster RXZ Turbo CVT\"],\n",
    "   \"car_prices_in_rupee\": [\"10.03 Lakh\", \" \"],\n",
    "   \"kms_driven\": [\"86,226 kms\", \" \",],\n",
    "   \"fuel_type\": [\"Diesel\", \"Petrol\"],\n",
    "   \"transmission\": [\"Manual\", \"Automatic\"],\n",
    "    \"ownership\": [\"1st Owner\", \"1st Owner\"],\n",
    "    \"manufacture\":[\"January 15,2017\",\n",
    "        \"January 15,2018\"],\n",
    "   \"engine\": [\"1956 cc\", \"1330 cc\"],\n",
    "    \"Seats\":[\"5 Seats\", \"5 Seats\"]\n",
    "}"
   ]
  },
  {
   "cell_type": "code",
   "execution_count": 63,
   "id": "7966cb7a-022e-46a2-bb39-c9587f30fcaf",
   "metadata": {},
   "outputs": [
    {
     "data": {
      "text/plain": [
       "{'car_name': ['Jeep Compass 2.0 Longitude Option BSIV',\n",
       "  'Renault Duster RXZ Turbo CVT'],\n",
       " 'car_prices_in_rupee': ['10.03 Lakh', ' '],\n",
       " 'kms_driven': ['86,226 kms', ' '],\n",
       " 'fuel_type': ['Diesel', 'Petrol'],\n",
       " 'transmission': ['Manual', 'Automatic'],\n",
       " 'ownership': ['1st Owner', '1st Owner'],\n",
       " 'manufacture': ['January 15,2017', 'January 15,2018'],\n",
       " 'engine': ['1956 cc', '1330 cc'],\n",
       " 'Seats': ['5 Seats', '5 Seats']}"
      ]
     },
     "execution_count": 63,
     "metadata": {},
     "output_type": "execute_result"
    }
   ],
   "source": [
    "data"
   ]
  },
  {
   "cell_type": "code",
   "execution_count": 64,
   "id": "3f8d1486-097a-41fe-bc50-cd5690c3a1a6",
   "metadata": {},
   "outputs": [],
   "source": [
    "# Converting this Dictionary into a Data frame\n",
    "import pandas as pd"
   ]
  },
  {
   "cell_type": "code",
   "execution_count": 65,
   "id": "b52072a0-3d7c-49c8-8460-f4d9e42c3a43",
   "metadata": {},
   "outputs": [],
   "source": [
    "# Create DataFrame\n",
    "df = pd.DataFrame(data)"
   ]
  },
  {
   "cell_type": "code",
   "execution_count": 66,
   "id": "6e114980-542e-49b9-b756-6ce419b3ae4f",
   "metadata": {},
   "outputs": [
    {
     "data": {
      "text/plain": [
       "{'car_name': ['Jeep Compass 2.0 Longitude Option BSIV',\n",
       "  'Renault Duster RXZ Turbo CVT'],\n",
       " 'car_prices_in_rupee': ['10.03 Lakh', ' '],\n",
       " 'kms_driven': ['86,226 kms', ' '],\n",
       " 'fuel_type': ['Diesel', 'Petrol'],\n",
       " 'transmission': ['Manual', 'Automatic'],\n",
       " 'ownership': ['1st Owner', '1st Owner'],\n",
       " 'manufacture': ['January 15,2017', 'January 15,2018'],\n",
       " 'engine': ['1956 cc', '1330 cc'],\n",
       " 'Seats': ['5 Seats', '5 Seats']}"
      ]
     },
     "execution_count": 66,
     "metadata": {},
     "output_type": "execute_result"
    }
   ],
   "source": [
    "data"
   ]
  },
  {
   "cell_type": "code",
   "execution_count": 67,
   "id": "4b373efe-080f-44f2-9b74-bac045e612ba",
   "metadata": {},
   "outputs": [
    {
     "name": "stdout",
     "output_type": "stream",
     "text": [
      "                                 car_name car_prices_in_rupee  kms_driven  \\\n",
      "0  Jeep Compass 2.0 Longitude Option BSIV          10.03 Lakh  86,226 kms   \n",
      "1            Renault Duster RXZ Turbo CVT                                   \n",
      "\n",
      "  fuel_type transmission  ownership      manufacture   engine    Seats  \n",
      "0    Diesel       Manual  1st Owner  January 15,2017  1956 cc  5 Seats  \n",
      "1    Petrol    Automatic  1st Owner  January 15,2018  1330 cc  5 Seats  \n"
     ]
    }
   ],
   "source": [
    "# Display the DataFrame\n",
    "print(df)"
   ]
  },
  {
   "cell_type": "code",
   "execution_count": 68,
   "id": "6164bf20-53b8-46ef-b5c3-fba67606561f",
   "metadata": {},
   "outputs": [
    {
     "data": {
      "text/html": [
       "<div>\n",
       "<style scoped>\n",
       "    .dataframe tbody tr th:only-of-type {\n",
       "        vertical-align: middle;\n",
       "    }\n",
       "\n",
       "    .dataframe tbody tr th {\n",
       "        vertical-align: top;\n",
       "    }\n",
       "\n",
       "    .dataframe thead th {\n",
       "        text-align: right;\n",
       "    }\n",
       "</style>\n",
       "<table border=\"1\" class=\"dataframe\">\n",
       "  <thead>\n",
       "    <tr style=\"text-align: right;\">\n",
       "      <th></th>\n",
       "      <th>car_name</th>\n",
       "      <th>car_prices_in_rupee</th>\n",
       "      <th>kms_driven</th>\n",
       "      <th>fuel_type</th>\n",
       "      <th>transmission</th>\n",
       "      <th>ownership</th>\n",
       "      <th>manufacture</th>\n",
       "      <th>engine</th>\n",
       "      <th>Seats</th>\n",
       "    </tr>\n",
       "  </thead>\n",
       "  <tbody>\n",
       "    <tr>\n",
       "      <th>0</th>\n",
       "      <td>Jeep Compass 2.0 Longitude Option BSIV</td>\n",
       "      <td>10.03 Lakh</td>\n",
       "      <td>86,226 kms</td>\n",
       "      <td>Diesel</td>\n",
       "      <td>Manual</td>\n",
       "      <td>1st Owner</td>\n",
       "      <td>January 15,2017</td>\n",
       "      <td>1956 cc</td>\n",
       "      <td>5 Seats</td>\n",
       "    </tr>\n",
       "    <tr>\n",
       "      <th>1</th>\n",
       "      <td>Renault Duster RXZ Turbo CVT</td>\n",
       "      <td></td>\n",
       "      <td></td>\n",
       "      <td>Petrol</td>\n",
       "      <td>Automatic</td>\n",
       "      <td>1st Owner</td>\n",
       "      <td>January 15,2018</td>\n",
       "      <td>1330 cc</td>\n",
       "      <td>5 Seats</td>\n",
       "    </tr>\n",
       "  </tbody>\n",
       "</table>\n",
       "</div>"
      ],
      "text/plain": [
       "                                 car_name car_prices_in_rupee  kms_driven  \\\n",
       "0  Jeep Compass 2.0 Longitude Option BSIV          10.03 Lakh  86,226 kms   \n",
       "1            Renault Duster RXZ Turbo CVT                                   \n",
       "\n",
       "  fuel_type transmission  ownership      manufacture   engine    Seats  \n",
       "0    Diesel       Manual  1st Owner  January 15,2017  1956 cc  5 Seats  \n",
       "1    Petrol    Automatic  1st Owner  January 15,2018  1330 cc  5 Seats  "
      ]
     },
     "execution_count": 68,
     "metadata": {},
     "output_type": "execute_result"
    }
   ],
   "source": [
    "df"
   ]
  },
  {
   "cell_type": "code",
   "execution_count": null,
   "id": "44f1ba61-aab3-4b4c-8ac9-72bf81e09fd1",
   "metadata": {},
   "outputs": [],
   "source": []
  }
 ],
 "metadata": {
  "kernelspec": {
   "display_name": "Python 3 (ipykernel)",
   "language": "python",
   "name": "python3"
  },
  "language_info": {
   "codemirror_mode": {
    "name": "ipython",
    "version": 3
   },
   "file_extension": ".py",
   "mimetype": "text/x-python",
   "name": "python",
   "nbconvert_exporter": "python",
   "pygments_lexer": "ipython3",
   "version": "3.12.3"
  }
 },
 "nbformat": 4,
 "nbformat_minor": 5
}
